{
 "cells": [
  {
   "cell_type": "markdown",
   "metadata": {},
   "source": [
    "## An example of model training and evaluation\n",
    "Author: Yarden Cohen\n",
    "\n",
    "Date: July 2020\n",
    "\n",
    "The script will load trainig data for a Bengalese finch (gy6or6, date: 032212), train a TweetyNet model, and predict a test set.\n",
    "\n",
    "Data source: https://figshare.com/articles/Bengalese_Finch_song_repository/4805749\n",
    "\n",
    "Before running:\n",
    "1. Download the data from 032212.\n",
    "2. Change the folder definitions in the configuration files to the path for the data and the example csv file\n"
   ]
  },
  {
   "cell_type": "code",
   "execution_count": 1,
   "metadata": {},
   "outputs": [],
   "source": [
    "# imports\n",
    "from pathlib import Path\n",
    "import pandas as pd\n",
    "import numpy as np\n",
    "import json\n",
    "import torch.utils.data\n",
    "from argparse import ArgumentParser\n",
    "from collections import defaultdict\n",
    "import joblib\n",
    "import torch\n",
    "from tqdm import tqdm\n",
    "\n",
    "# imports from vak\n",
    "from vak import csv,labels,models,summary_writer,transforms,io,config\n",
    "from vak.datasets.window_dataset import WindowDataset\n",
    "from vak.datasets.vocal_dataset import VocalDataset\n",
    "from vak.device import get_default as get_default_device\n",
    "from vak.logging import log_or_print\n",
    "from vak.config import parse\n",
    "from vak.io import dataframe\n",
    "import vak.device\n",
    "import vak.files\n",
    "import vak.labels as labelfuncs"
   ]
  },
  {
   "cell_type": "code",
   "execution_count": 2,
   "metadata": {},
   "outputs": [],
   "source": [
    "# setting up parameters for training\n",
    "path_of_configuration_file = \"C:\\\\Users\\\\Yarden Cohen\\\\repos\\\\tweetynet\\\\doc\\\\notebooks\\\\BF_Example_Train_Predict\\\\gy6or6_032212_example_train.toml\"\n",
    "\n",
    "toml_path = Path(path_of_configuration_file)\n",
    "cfg = parse.from_toml(toml_path)\n",
    "\n",
    "model_config_map = {'TweetyNet': {'loss': {}, 'metrics': {}, 'network': {}, 'optimizer': {'lr': 0.001}}}\n",
    "train_csv_path = Path(cfg.train.csv_path)\n",
    "labelset =  cfg.prep.labelset\n",
    "window_size = cfg.dataloader.window_size\n",
    "batch_size = cfg.train.batch_size\n",
    "num_epochs = cfg.train.num_epochs\n",
    "num_workers = cfg.train.num_workers\n",
    "results_path = Path(cfg.train.root_results_dir)\n",
    "spect_key = cfg.spect_params.spect_key\n",
    "timebins_key = cfg.spect_params.timebins_key\n",
    "normalize_spectrograms = cfg.train.normalize_spectrograms\n",
    "shuffle = cfg.train.shuffle\n",
    "val_step = cfg.train.val_step\n",
    "ckpt_step = cfg.train.ckpt_step\n",
    "patience = cfg.train.patience\n",
    "device = cfg.train.device\n",
    "logger = None"
   ]
  },
  {
   "cell_type": "code",
   "execution_count": 27,
   "metadata": {},
   "outputs": [
    {
     "name": "stdout",
     "output_type": "stream",
     "text": [
      "making array files containing spectrograms from audio files in: D:\\BengaleseFinches\\gy6or6\\032212\n",
      "found labels in D:\\BengaleseFinches\\gy6or6\\032212\\gy6or6_baseline_220312_0844.22.cbin.not.mat for D:\\BengaleseFinches\\gy6or6\\032212\\gy6or6_baseline_220312_0844.22.cbin not in labels_mapping, skipping audio file: D:\\BengaleseFinches\\gy6or6\\032212\\gy6or6_baseline_220312_0844.22.cbin\n",
      "found labels in D:\\BengaleseFinches\\gy6or6\\032212\\gy6or6_baseline_220312_0845.28.cbin.not.mat for D:\\BengaleseFinches\\gy6or6\\032212\\gy6or6_baseline_220312_0845.28.cbin not in labels_mapping, skipping audio file: D:\\BengaleseFinches\\gy6or6\\032212\\gy6or6_baseline_220312_0845.28.cbin\n",
      "found labels in D:\\BengaleseFinches\\gy6or6\\032212\\gy6or6_baseline_220312_0852.55.cbin.not.mat for D:\\BengaleseFinches\\gy6or6\\032212\\gy6or6_baseline_220312_0852.55.cbin not in labels_mapping, skipping audio file: D:\\BengaleseFinches\\gy6or6\\032212\\gy6or6_baseline_220312_0852.55.cbin\n",
      "found labels in D:\\BengaleseFinches\\gy6or6\\032212\\gy6or6_baseline_220312_0854.62.cbin.not.mat for D:\\BengaleseFinches\\gy6or6\\032212\\gy6or6_baseline_220312_0854.62.cbin not in labels_mapping, skipping audio file: D:\\BengaleseFinches\\gy6or6\\032212\\gy6or6_baseline_220312_0854.62.cbin\n",
      "found labels in D:\\BengaleseFinches\\gy6or6\\032212\\gy6or6_baseline_220312_0926.180.cbin.not.mat for D:\\BengaleseFinches\\gy6or6\\032212\\gy6or6_baseline_220312_0926.180.cbin not in labels_mapping, skipping audio file: D:\\BengaleseFinches\\gy6or6\\032212\\gy6or6_baseline_220312_0926.180.cbin\n",
      "found labels in D:\\BengaleseFinches\\gy6or6\\032212\\gy6or6_baseline_220312_0939.248.cbin.not.mat for D:\\BengaleseFinches\\gy6or6\\032212\\gy6or6_baseline_220312_0939.248.cbin not in labels_mapping, skipping audio file: D:\\BengaleseFinches\\gy6or6\\032212\\gy6or6_baseline_220312_0939.248.cbin\n",
      "found labels in D:\\BengaleseFinches\\gy6or6\\032212\\gy6or6_baseline_220312_0941.256.cbin.not.mat for D:\\BengaleseFinches\\gy6or6\\032212\\gy6or6_baseline_220312_0941.256.cbin not in labels_mapping, skipping audio file: D:\\BengaleseFinches\\gy6or6\\032212\\gy6or6_baseline_220312_0941.256.cbin\n",
      "found labels in D:\\BengaleseFinches\\gy6or6\\032212\\gy6or6_baseline_220312_0957.367.cbin.not.mat for D:\\BengaleseFinches\\gy6or6\\032212\\gy6or6_baseline_220312_0957.367.cbin not in labels_mapping, skipping audio file: D:\\BengaleseFinches\\gy6or6\\032212\\gy6or6_baseline_220312_0957.367.cbin\n",
      "found labels in D:\\BengaleseFinches\\gy6or6\\032212\\gy6or6_baseline_220312_1005.434.cbin.not.mat for D:\\BengaleseFinches\\gy6or6\\032212\\gy6or6_baseline_220312_1005.434.cbin not in labels_mapping, skipping audio file: D:\\BengaleseFinches\\gy6or6\\032212\\gy6or6_baseline_220312_1005.434.cbin\n",
      "found labels in D:\\BengaleseFinches\\gy6or6\\032212\\gy6or6_baseline_220312_1204.865.cbin.not.mat for D:\\BengaleseFinches\\gy6or6\\032212\\gy6or6_baseline_220312_1204.865.cbin not in labels_mapping, skipping audio file: D:\\BengaleseFinches\\gy6or6\\032212\\gy6or6_baseline_220312_1204.865.cbin\n",
      "found labels in D:\\BengaleseFinches\\gy6or6\\032212\\gy6or6_baseline_220312_1339.1113.cbin.not.mat for D:\\BengaleseFinches\\gy6or6\\032212\\gy6or6_baseline_220312_1339.1113.cbin not in labels_mapping, skipping audio file: D:\\BengaleseFinches\\gy6or6\\032212\\gy6or6_baseline_220312_1339.1113.cbin\n",
      "found labels in D:\\BengaleseFinches\\gy6or6\\032212\\gy6or6_baseline_220312_1502.1363.cbin.not.mat for D:\\BengaleseFinches\\gy6or6\\032212\\gy6or6_baseline_220312_1502.1363.cbin not in labels_mapping, skipping audio file: D:\\BengaleseFinches\\gy6or6\\032212\\gy6or6_baseline_220312_1502.1363.cbin\n",
      "found labels in D:\\BengaleseFinches\\gy6or6\\032212\\gy6or6_baseline_220312_1532.1484.cbin.not.mat for D:\\BengaleseFinches\\gy6or6\\032212\\gy6or6_baseline_220312_1532.1484.cbin not in labels_mapping, skipping audio file: D:\\BengaleseFinches\\gy6or6\\032212\\gy6or6_baseline_220312_1532.1484.cbin\n",
      "found labels in D:\\BengaleseFinches\\gy6or6\\032212\\gy6or6_baseline_220312_1737.1674.cbin.not.mat for D:\\BengaleseFinches\\gy6or6\\032212\\gy6or6_baseline_220312_1737.1674.cbin not in labels_mapping, skipping audio file: D:\\BengaleseFinches\\gy6or6\\032212\\gy6or6_baseline_220312_1737.1674.cbin\n",
      "[########################################] | 100% Completed | 12.0s\n",
      "creating datasetfrom spectrogram files in: D:\\BengaleseFinches\\gy6or6\\032212\\spect\n",
      "validating set of spectrogram files\n",
      "[########################################] | 100% Completed |  7.1s\n",
      "creating pandas.DataFrame representing dataset from spectrogram files\n",
      "[########################################] | 100% Completed |  5.7s\n"
     ]
    }
   ],
   "source": [
    "# make spectrograms and update path in example csv file\n",
    "spect_path = cfg.prep.data_dir.joinpath('spect')\n",
    "if not spect_path.is_dir():\n",
    "    spect_path.mkdir()\n",
    "dataset_df=dataframe.from_files(labelset=cfg.prep.labelset,\n",
    "                          data_dir=cfg.prep.data_dir,\n",
    "                          annot_format=cfg.prep.annot_format,\n",
    "                          output_dir=spect_path,\n",
    "                          annot_file=None,\n",
    "                          audio_format='cbin',\n",
    "                          spect_params=cfg.spect_params,\n",
    "                          logger=None)\n",
    "example_csv_path = cfg.train.csv_path\n",
    "example_csv_df = pd.read_csv(example_csv_path)\n",
    "for cnt in range(len(example_csv_df)):\n",
    "    if example_csv_df['audio_path'][cnt] == dataset_df['audio_path'][cnt]:\n",
    "        example_csv_df['spect_path'][cnt] = dataset_df['spect_path'][cnt]\n",
    "    else:\n",
    "        print('Audio file name mismatch in entry: ' + str(cnt))\n",
    "example_csv_df.to_csv(example_csv_path,index=False)"
   ]
  },
  {
   "cell_type": "code",
   "execution_count": 45,
   "metadata": {},
   "outputs": [],
   "source": [
    "# prepare training dataset\n",
    "dataset_df = pd.read_csv(train_csv_path)\n",
    "results_path = Path(results_path).expanduser().resolve()\n",
    "timebin_dur = dataframe.validate_and_get_timebin_dur(dataset_df)\n",
    "train_dur = dataframe.split_dur(dataset_df, 'train')\n",
    "labelmap = labels.to_map(labelset, map_unlabeled=True)\n",
    "spect_standardizer = None\n",
    "transform, target_transform = transforms.get_defaults('train',spect_standardizer)\n",
    "train_dataset = WindowDataset.from_csv(csv_path=train_csv_path,\n",
    "                                           x_inds=None,\n",
    "                                           spect_id_vector=None,\n",
    "                                           spect_inds_vector=None,\n",
    "                                           split='train',\n",
    "                                           labelmap=labelmap,\n",
    "                                           window_size=window_size,\n",
    "                                           spect_key=spect_key,\n",
    "                                           timebins_key=timebins_key,\n",
    "                                           transform=transform,\n",
    "                                           target_transform=target_transform\n",
    "                                           )\n",
    "\n",
    "train_data = torch.utils.data.DataLoader(dataset=train_dataset,\n",
    "                                             shuffle=shuffle,\n",
    "                                             batch_size=batch_size,\n",
    "                                             num_workers=num_workers)"
   ]
  },
  {
   "cell_type": "code",
   "execution_count": 47,
   "metadata": {},
   "outputs": [],
   "source": [
    "# prepare validation dataset \n",
    "if val_step:\n",
    "    item_transform = transforms.get_defaults('eval',\n",
    "                                             spect_standardizer,\n",
    "                                             window_size=window_size,\n",
    "                                             return_padding_mask=True,\n",
    "                                             )\n",
    "    val_dataset = VocalDataset.from_csv(csv_path=train_csv_path,\n",
    "                                        split='val',\n",
    "                                        labelmap=labelmap,\n",
    "                                        spect_key=spect_key,\n",
    "                                        timebins_key=timebins_key,\n",
    "                                        item_transform=item_transform,\n",
    "                                        )\n",
    "    val_data = torch.utils.data.DataLoader(dataset=val_dataset,\n",
    "                                           shuffle=False,\n",
    "                                           # batch size 1 because each spectrogram reshaped into a batch of windows\n",
    "                                           batch_size=1,\n",
    "                                           num_workers=num_workers)\n",
    "    val_dur = dataframe.split_dur(dataset_df, 'val')    \n",
    "else:\n",
    "    val_data = None"
   ]
  },
  {
   "cell_type": "code",
   "execution_count": 50,
   "metadata": {},
   "outputs": [],
   "source": [
    "# initiate the TweetyNet model and prepare for training \n",
    "if device is None:\n",
    "    device = get_default_device()\n",
    "\n",
    "models_map = models.from_model_config_map(\n",
    "        model_config_map,\n",
    "        num_classes=len(labelmap),\n",
    "        input_shape=train_dataset.shape,\n",
    "        logger=logger,\n",
    "    )\n",
    "\n",
    "model_name = 'TweetyNet'\n",
    "model = models_map['TweetyNet']\n",
    "results_model_root = results_path.joinpath(model_name)\n",
    "if not results_model_root.is_dir():\n",
    "    results_model_root.mkdir()\n",
    "ckpt_root = results_model_root.joinpath('checkpoints')\n",
    "if not ckpt_root.is_dir():\n",
    "    ckpt_root.mkdir()\n",
    "writer = summary_writer.get_summary_writer(log_dir=results_model_root,                                                 filename_suffix=model_name)\n",
    "model.summary_writer = writer"
   ]
  },
  {
   "cell_type": "code",
   "execution_count": 51,
   "metadata": {},
   "outputs": [
    {
     "data": {
      "text/plain": [
       "TweetyNet(\n",
       "  (cnn): Sequential(\n",
       "    (0): Conv2dTF(1, 32, kernel_size=(5, 5), stride=(1, 1), padding=same)\n",
       "    (1): ReLU(inplace=True)\n",
       "    (2): MaxPool2d(kernel_size=(8, 1), stride=(8, 1), padding=0, dilation=1, ceil_mode=False)\n",
       "    (3): Conv2dTF(32, 64, kernel_size=(5, 5), stride=(1, 1), padding=same)\n",
       "    (4): ReLU(inplace=True)\n",
       "    (5): MaxPool2d(kernel_size=(8, 1), stride=(8, 1), padding=0, dilation=1, ceil_mode=False)\n",
       "  )\n",
       "  (rnn): LSTM(128, 128, bidirectional=True)\n",
       "  (fc): Linear(in_features=256, out_features=12, bias=True)\n",
       ")"
      ]
     },
     "execution_count": 51,
     "metadata": {},
     "output_type": "execute_result"
    }
   ],
   "source": [
    "# This is how the model looks like\n",
    "model.network"
   ]
  },
  {
   "cell_type": "code",
   "execution_count": 7,
   "metadata": {},
   "outputs": [
    {
     "name": "stderr",
     "output_type": "stream",
     "text": [
      "\r",
      "  0%|                                                                                        | 0/11862 [00:00<?, ?it/s]"
     ]
    },
    {
     "name": "stdout",
     "output_type": "stream",
     "text": [
      "epoch 1 / 5\n"
     ]
    },
    {
     "name": "stderr",
     "output_type": "stream",
     "text": [
      "Epoch 1, batch 49. Loss: 0.6468. Global step: 49:   0%|                           | 46/11862 [00:45<2:58:07,  1.11it/s]\n",
      "  0%|                                                                                            | 0/8 [00:00<?, ?it/s]\u001b[A"
     ]
    },
    {
     "name": "stdout",
     "output_type": "stream",
     "text": [
      "Step 50 is a validation step; computing metrics on validation set\n"
     ]
    },
    {
     "name": "stderr",
     "output_type": "stream",
     "text": [
      "Epoch 1, batch 49. Loss: 0.6468. Global step: 49:   0%|                           | 46/11862 [00:59<2:58:07,  1.11it/s]\n",
      "batch 0 / 8:   0%|                                                                               | 0/8 [00:43<?, ?it/s]\u001b[A\n",
      "batch 0 / 8:  12%|████████▉                                                              | 1/8 [00:43<05:02, 43.14s/it]\u001b[A\n",
      "batch 1 / 8:  12%|████████▉                                                              | 1/8 [00:43<05:02, 43.14s/it]\u001b[A\n",
      "batch 2 / 8:  12%|████████▉                                                              | 1/8 [00:43<05:02, 43.14s/it]\u001b[A\n",
      "batch 3 / 8:  12%|████████▉                                                              | 1/8 [00:43<05:02, 43.14s/it]\u001b[A\n",
      "batch 3 / 8:  50%|███████████████████████████████████▌                                   | 4/8 [00:43<02:00, 30.21s/it]\u001b[A\n",
      "batch 4 / 8:  50%|███████████████████████████████████▌                                   | 4/8 [00:43<02:00, 30.21s/it]\u001b[A\n",
      "batch 5 / 8:  50%|███████████████████████████████████▌                                   | 4/8 [00:43<02:00, 30.21s/it]\u001b[A\n",
      "batch 6 / 8:  50%|███████████████████████████████████▌                                   | 4/8 [00:43<02:00, 30.21s/it]\u001b[A\n",
      "batch 7 / 8:  50%|███████████████████████████████████▌                                   | 4/8 [00:43<02:00, 30.21s/it]\u001b[A\n",
      "batch 7 / 8: 100%|███████████████████████████████████████████████████████████████████████| 8/8 [00:44<00:00,  5.55s/it]\u001b[A\n",
      "Epoch 1, batch 53. Loss: 0.9127. Global step: 53:   0%|                           | 53/11862 [01:30<9:09:27,  2.79s/it]"
     ]
    },
    {
     "name": "stdout",
     "output_type": "stream",
     "text": [
      "avg_acc: 0.7577, avg_levenshtein: 195.0000, avg_segment_error_rate: 3.0959, avg_loss: 0.7602\n",
      "Accuracy on validation set improved. Saving max-val-acc checkpoint.\n",
      "Saving checkpoint at:\n",
      "C:\\Users\\Yarden Cohen\\repos\\tweetynet\\doc\\notebooks\\BF_Example_Train_Predict\\TweetyNet\\checkpoints\\max-val-acc-checkpoint.pt \n"
     ]
    },
    {
     "name": "stderr",
     "output_type": "stream",
     "text": [
      "Epoch 1, batch 99. Loss: 0.2657. Global step: 99:   1%|▏                            | 99/11862 [01:31<15:46, 12.43it/s]\n",
      "  0%|                                                                                            | 0/8 [00:00<?, ?it/s]\u001b[A"
     ]
    },
    {
     "name": "stdout",
     "output_type": "stream",
     "text": [
      "Step 100 is a validation step; computing metrics on validation set\n"
     ]
    },
    {
     "name": "stderr",
     "output_type": "stream",
     "text": [
      "Epoch 1, batch 99. Loss: 0.2657. Global step: 99:   1%|▏                            | 99/11862 [01:50<15:46, 12.43it/s]\n",
      "batch 0 / 8:   0%|                                                                               | 0/8 [00:42<?, ?it/s]\u001b[A\n",
      "batch 0 / 8:  12%|████████▉                                                              | 1/8 [00:42<04:59, 42.72s/it]\u001b[A\n",
      "batch 1 / 8:  12%|████████▉                                                              | 1/8 [00:42<04:59, 42.72s/it]\u001b[A\n",
      "batch 2 / 8:  12%|████████▉                                                              | 1/8 [00:42<04:59, 42.72s/it]\u001b[A\n",
      "batch 3 / 8:  12%|████████▉                                                              | 1/8 [00:42<04:59, 42.72s/it]\u001b[A\n",
      "batch 4 / 8:  12%|████████▉                                                              | 1/8 [00:42<04:59, 42.72s/it]\u001b[A\n",
      "batch 5 / 8:  12%|████████▉                                                              | 1/8 [00:42<04:59, 42.72s/it]\u001b[A\n",
      "batch 5 / 8:  75%|█████████████████████████████████████████████████████▎                 | 6/8 [00:42<00:59, 29.91s/it]\u001b[A\n",
      "batch 6 / 8:  75%|█████████████████████████████████████████████████████▎                 | 6/8 [00:42<00:59, 29.91s/it]\u001b[A\n",
      "batch 7 / 8: 100%|███████████████████████████████████████████████████████████████████████| 8/8 [00:43<00:00,  5.49s/it]\u001b[A\n",
      "Epoch 1, batch 104. Loss: 0.5652. Global step: 104:   1%|▏                      | 104/11862 [02:15<30:19:34,  9.29s/it]"
     ]
    },
    {
     "name": "stdout",
     "output_type": "stream",
     "text": [
      "avg_acc: 0.8065, avg_levenshtein: 138.0000, avg_segment_error_rate: 2.1892, avg_loss: 0.5786\n",
      "Accuracy on validation set improved. Saving max-val-acc checkpoint.\n",
      "Saving checkpoint at:\n",
      "C:\\Users\\Yarden Cohen\\repos\\tweetynet\\doc\\notebooks\\BF_Example_Train_Predict\\TweetyNet\\checkpoints\\max-val-acc-checkpoint.pt \n"
     ]
    },
    {
     "name": "stderr",
     "output_type": "stream",
     "text": [
      "Epoch 1, batch 149. Loss: 0.3865. Global step: 149:   1%|▎                         | 146/11862 [02:16<56:07,  3.48it/s]\n",
      "  0%|                                                                                            | 0/8 [00:00<?, ?it/s]\u001b[A"
     ]
    },
    {
     "name": "stdout",
     "output_type": "stream",
     "text": [
      "Step 150 is a validation step; computing metrics on validation set\n"
     ]
    },
    {
     "name": "stderr",
     "output_type": "stream",
     "text": [
      "Epoch 1, batch 149. Loss: 0.3865. Global step: 149:   1%|▎                         | 146/11862 [02:30<56:07,  3.48it/s]\n",
      "batch 0 / 8:   0%|                                                                               | 0/8 [00:44<?, ?it/s]\u001b[A\n",
      "batch 0 / 8:  12%|████████▉                                                              | 1/8 [00:44<05:08, 44.08s/it]\u001b[A\n",
      "batch 1 / 8:  12%|████████▉                                                              | 1/8 [00:44<05:08, 44.08s/it]\u001b[A\n",
      "batch 2 / 8:  12%|████████▉                                                              | 1/8 [00:44<05:08, 44.08s/it]\u001b[A\n",
      "batch 3 / 8:  12%|████████▉                                                              | 1/8 [00:44<05:08, 44.08s/it]\u001b[A\n",
      "batch 4 / 8:  12%|████████▉                                                              | 1/8 [00:44<05:08, 44.08s/it]\u001b[A\n",
      "batch 5 / 8:  12%|████████▉                                                              | 1/8 [00:44<05:08, 44.08s/it]\u001b[A\n",
      "batch 5 / 8:  75%|█████████████████████████████████████████████████████▎                 | 6/8 [00:44<01:01, 30.86s/it]\u001b[A\n",
      "batch 6 / 8:  75%|█████████████████████████████████████████████████████▎                 | 6/8 [00:44<01:01, 30.86s/it]\u001b[A\n",
      "batch 7 / 8: 100%|███████████████████████████████████████████████████████████████████████| 8/8 [00:45<00:00,  5.66s/it]\u001b[A\n",
      "Epoch 1, batch 155. Loss: 0.5838. Global step: 155:   1%|▎                       | 154/11862 [03:02<8:14:13,  2.53s/it]"
     ]
    },
    {
     "name": "stdout",
     "output_type": "stream",
     "text": [
      "avg_acc: 0.8665, avg_levenshtein: 104.0000, avg_segment_error_rate: 1.6467, avg_loss: 0.4387\n",
      "Accuracy on validation set improved. Saving max-val-acc checkpoint.\n",
      "Saving checkpoint at:\n",
      "C:\\Users\\Yarden Cohen\\repos\\tweetynet\\doc\\notebooks\\BF_Example_Train_Predict\\TweetyNet\\checkpoints\\max-val-acc-checkpoint.pt \n"
     ]
    },
    {
     "name": "stderr",
     "output_type": "stream",
     "text": [
      "Epoch 1, batch 199. Loss: 0.4783. Global step: 199:   2%|▍                         | 199/11862 [03:03<15:03, 12.91it/s]\n",
      "  0%|                                                                                            | 0/8 [00:00<?, ?it/s]\u001b[A"
     ]
    },
    {
     "name": "stdout",
     "output_type": "stream",
     "text": [
      "Step 200 is a validation step; computing metrics on validation set\n"
     ]
    },
    {
     "name": "stderr",
     "output_type": "stream",
     "text": [
      "Epoch 1, batch 199. Loss: 0.4783. Global step: 199:   2%|▍                         | 199/11862 [03:20<15:03, 12.91it/s]\n",
      "batch 0 / 8:   0%|                                                                               | 0/8 [00:43<?, ?it/s]\u001b[A\n",
      "batch 0 / 8:  12%|████████▉                                                              | 1/8 [00:43<05:05, 43.61s/it]\u001b[A\n",
      "batch 1 / 8:  12%|████████▉                                                              | 1/8 [00:43<05:05, 43.61s/it]\u001b[A\n",
      "batch 2 / 8:  12%|████████▉                                                              | 1/8 [00:43<05:05, 43.61s/it]\u001b[A\n",
      "batch 3 / 8:  12%|████████▉                                                              | 1/8 [00:43<05:05, 43.61s/it]\u001b[A\n",
      "batch 4 / 8:  12%|████████▉                                                              | 1/8 [00:43<05:05, 43.61s/it]\u001b[A\n",
      "batch 5 / 8:  12%|████████▉                                                              | 1/8 [00:43<05:05, 43.61s/it]\u001b[A\n",
      "batch 5 / 8:  75%|█████████████████████████████████████████████████████▎                 | 6/8 [00:43<01:01, 30.53s/it]\u001b[A\n",
      "batch 6 / 8:  75%|█████████████████████████████████████████████████████▎                 | 6/8 [00:43<01:01, 30.53s/it]\u001b[A\n",
      "batch 7 / 8: 100%|███████████████████████████████████████████████████████████████████████| 8/8 [00:44<00:00,  5.60s/it]\u001b[A\n",
      "Epoch 1, batch 202. Loss: 0.3819. Global step: 202:   2%|▍                      | 203/11862 [03:48<30:40:03,  9.47s/it]"
     ]
    },
    {
     "name": "stdout",
     "output_type": "stream",
     "text": [
      "avg_acc: 0.8853, avg_levenshtein: 90.0000, avg_segment_error_rate: 1.3953, avg_loss: 0.3765\n",
      "Accuracy on validation set improved. Saving max-val-acc checkpoint.\n",
      "Saving checkpoint at:\n",
      "C:\\Users\\Yarden Cohen\\repos\\tweetynet\\doc\\notebooks\\BF_Example_Train_Predict\\TweetyNet\\checkpoints\\max-val-acc-checkpoint.pt \n",
      "Step 200 is a checkpoint step.\n",
      "Saving checkpoint at:\n",
      "C:\\Users\\Yarden Cohen\\repos\\tweetynet\\doc\\notebooks\\BF_Example_Train_Predict\\TweetyNet\\checkpoints\\checkpoint.pt \n"
     ]
    },
    {
     "name": "stderr",
     "output_type": "stream",
     "text": [
      "Epoch 1, batch 249. Loss: 0.4554. Global step: 249:   2%|▌                         | 248/11862 [03:49<41:16,  4.69it/s]\n",
      "  0%|                                                                                            | 0/8 [00:00<?, ?it/s]\u001b[A"
     ]
    },
    {
     "name": "stdout",
     "output_type": "stream",
     "text": [
      "Step 250 is a validation step; computing metrics on validation set\n"
     ]
    },
    {
     "name": "stderr",
     "output_type": "stream",
     "text": [
      "Epoch 1, batch 249. Loss: 0.4554. Global step: 249:   2%|▌                         | 248/11862 [04:00<41:16,  4.69it/s]\n",
      "batch 0 / 8:   0%|                                                                               | 0/8 [00:43<?, ?it/s]\u001b[A\n",
      "batch 0 / 8:  12%|████████▉                                                              | 1/8 [00:43<05:04, 43.56s/it]\u001b[A\n",
      "batch 1 / 8:  12%|████████▉                                                              | 1/8 [00:43<05:04, 43.56s/it]\u001b[A\n",
      "batch 2 / 8:  12%|████████▉                                                              | 1/8 [00:43<05:04, 43.56s/it]\u001b[A\n",
      "batch 3 / 8:  12%|████████▉                                                              | 1/8 [00:43<05:04, 43.56s/it]\u001b[A\n",
      "batch 4 / 8:  12%|████████▉                                                              | 1/8 [00:43<05:04, 43.56s/it]\u001b[A\n",
      "batch 4 / 8:  62%|████████████████████████████████████████████▍                          | 5/8 [00:43<01:31, 30.50s/it]\u001b[A\n",
      "batch 5 / 8:  62%|████████████████████████████████████████████▍                          | 5/8 [00:43<01:31, 30.50s/it]\u001b[A\n",
      "batch 6 / 8:  62%|████████████████████████████████████████████▍                          | 5/8 [00:43<01:31, 30.50s/it]\u001b[A\n",
      "batch 7 / 8: 100%|███████████████████████████████████████████████████████████████████████| 8/8 [00:44<00:00,  5.60s/it]\u001b[A\n",
      "Epoch 1, batch 254. Loss: 0.4211. Global step: 254:   2%|▍                      | 253/11862 [04:34<15:33:30,  4.82s/it]"
     ]
    },
    {
     "name": "stdout",
     "output_type": "stream",
     "text": [
      "avg_acc: 0.9053, avg_levenshtein: 96.0000, avg_segment_error_rate: 1.5254, avg_loss: 0.3207\n",
      "Accuracy on validation set improved. Saving max-val-acc checkpoint.\n",
      "Saving checkpoint at:\n",
      "C:\\Users\\Yarden Cohen\\repos\\tweetynet\\doc\\notebooks\\BF_Example_Train_Predict\\TweetyNet\\checkpoints\\max-val-acc-checkpoint.pt \n"
     ]
    },
    {
     "name": "stderr",
     "output_type": "stream",
     "text": [
      "Epoch 1, batch 299. Loss: 0.2894. Global step: 299:   3%|▋                         | 299/11862 [04:35<23:17,  8.27it/s]\n",
      "  0%|                                                                                            | 0/8 [00:00<?, ?it/s]\u001b[A"
     ]
    },
    {
     "name": "stdout",
     "output_type": "stream",
     "text": [
      "Step 300 is a validation step; computing metrics on validation set\n"
     ]
    },
    {
     "name": "stderr",
     "output_type": "stream",
     "text": [
      "Epoch 1, batch 299. Loss: 0.2894. Global step: 299:   3%|▋                         | 299/11862 [04:50<23:17,  8.27it/s]\n",
      "batch 0 / 8:   0%|                                                                               | 0/8 [00:43<?, ?it/s]\u001b[A\n",
      "batch 0 / 8:  12%|████████▉                                                              | 1/8 [00:43<05:07, 43.99s/it]\u001b[A\n",
      "batch 1 / 8:  12%|████████▉                                                              | 1/8 [00:44<05:07, 43.99s/it]\u001b[A\n",
      "batch 2 / 8:  12%|████████▉                                                              | 1/8 [00:44<05:07, 43.99s/it]\u001b[A\n",
      "batch 3 / 8:  12%|████████▉                                                              | 1/8 [00:44<05:07, 43.99s/it]\u001b[A\n",
      "batch 4 / 8:  12%|████████▉                                                              | 1/8 [00:44<05:07, 43.99s/it]\u001b[A\n",
      "batch 4 / 8:  62%|████████████████████████████████████████████▍                          | 5/8 [00:44<01:32, 30.80s/it]\u001b[A\n",
      "batch 5 / 8:  62%|████████████████████████████████████████████▍                          | 5/8 [00:44<01:32, 30.80s/it]\u001b[A\n",
      "batch 6 / 8:  62%|████████████████████████████████████████████▍                          | 5/8 [00:44<01:32, 30.80s/it]\u001b[A\n",
      "batch 7 / 8: 100%|███████████████████████████████████████████████████████████████████████| 8/8 [00:45<00:00,  5.66s/it]\u001b[A\n",
      "Epoch 1, batch 304. Loss: 0.2724. Global step: 304:   3%|▌                      | 304/11862 [05:21<30:47:36,  9.59s/it]"
     ]
    },
    {
     "name": "stdout",
     "output_type": "stream",
     "text": [
      "avg_acc: 0.9211, avg_levenshtein: 77.0000, avg_segment_error_rate: 1.2233, avg_loss: 0.2851\n",
      "Accuracy on validation set improved. Saving max-val-acc checkpoint.\n",
      "Saving checkpoint at:\n",
      "C:\\Users\\Yarden Cohen\\repos\\tweetynet\\doc\\notebooks\\BF_Example_Train_Predict\\TweetyNet\\checkpoints\\max-val-acc-checkpoint.pt \n"
     ]
    },
    {
     "name": "stderr",
     "output_type": "stream",
     "text": [
      "Epoch 1, batch 349. Loss: 0.3256. Global step: 349:   3%|▊                         | 349/11862 [05:22<41:26,  4.63it/s]\n",
      "  0%|                                                                                            | 0/8 [00:00<?, ?it/s]\u001b[A"
     ]
    },
    {
     "name": "stdout",
     "output_type": "stream",
     "text": [
      "Step 350 is a validation step; computing metrics on validation set\n"
     ]
    },
    {
     "name": "stderr",
     "output_type": "stream",
     "text": [
      "Epoch 1, batch 349. Loss: 0.3256. Global step: 349:   3%|▊                         | 349/11862 [05:40<41:26,  4.63it/s]\n",
      "batch 0 / 8:   0%|                                                                               | 0/8 [00:46<?, ?it/s]\u001b[A\n",
      "batch 0 / 8:  12%|████████▉                                                              | 1/8 [00:46<05:25, 46.47s/it]\u001b[A\n",
      "batch 1 / 8:  12%|████████▉                                                              | 1/8 [00:46<05:25, 46.47s/it]\u001b[A\n",
      "batch 2 / 8:  12%|████████▉                                                              | 1/8 [00:46<05:25, 46.47s/it]\u001b[A\n",
      "batch 3 / 8:  12%|████████▉                                                              | 1/8 [00:46<05:25, 46.47s/it]\u001b[A\n",
      "batch 4 / 8:  12%|████████▉                                                              | 1/8 [00:46<05:25, 46.47s/it]\u001b[A\n",
      "batch 4 / 8:  62%|████████████████████████████████████████████▍                          | 5/8 [00:46<01:37, 32.54s/it]\u001b[A\n",
      "batch 5 / 8:  62%|████████████████████████████████████████████▍                          | 5/8 [00:46<01:37, 32.54s/it]\u001b[A\n",
      "batch 6 / 8:  62%|████████████████████████████████████████████▍                          | 5/8 [00:46<01:37, 32.54s/it]\u001b[A\n",
      "batch 7 / 8:  62%|████████████████████████████████████████████▍                          | 5/8 [00:46<01:37, 32.54s/it]\u001b[A\n",
      "batch 7 / 8: 100%|███████████████████████████████████████████████████████████████████████| 8/8 [00:47<00:00,  5.96s/it]\u001b[A\n",
      "Epoch 1, batch 356. Loss: 0.2833. Global step: 356:   3%|▋                      | 355/11862 [06:10<32:25:25, 10.14s/it]"
     ]
    },
    {
     "name": "stdout",
     "output_type": "stream",
     "text": [
      "avg_acc: 0.9314, avg_levenshtein: 75.0000, avg_segment_error_rate: 1.1989, avg_loss: 0.2385\n",
      "Accuracy on validation set improved. Saving max-val-acc checkpoint.\n",
      "Saving checkpoint at:\n",
      "C:\\Users\\Yarden Cohen\\repos\\tweetynet\\doc\\notebooks\\BF_Example_Train_Predict\\TweetyNet\\checkpoints\\max-val-acc-checkpoint.pt \n"
     ]
    },
    {
     "name": "stderr",
     "output_type": "stream",
     "text": [
      "Epoch 1, batch 399. Loss: 0.1534. Global step: 399:   3%|▊                         | 397/11862 [06:11<59:32,  3.21it/s]\n",
      "  0%|                                                                                            | 0/8 [00:00<?, ?it/s]\u001b[A"
     ]
    },
    {
     "name": "stdout",
     "output_type": "stream",
     "text": [
      "Step 400 is a validation step; computing metrics on validation set\n"
     ]
    },
    {
     "name": "stderr",
     "output_type": "stream",
     "text": [
      "Epoch 1, batch 399. Loss: 0.1534. Global step: 399:   3%|▊                         | 397/11862 [06:30<59:32,  3.21it/s]\n",
      "batch 0 / 8:   0%|                                                                               | 0/8 [00:46<?, ?it/s]\u001b[A\n",
      "batch 0 / 8:  12%|████████▉                                                              | 1/8 [00:46<05:22, 46.10s/it]\u001b[A\n",
      "batch 1 / 8:  12%|████████▉                                                              | 1/8 [00:46<05:22, 46.10s/it]\u001b[A\n",
      "batch 2 / 8:  12%|████████▉                                                              | 1/8 [00:46<05:22, 46.10s/it]\u001b[A\n",
      "batch 3 / 8:  12%|████████▉                                                              | 1/8 [00:46<05:22, 46.10s/it]\u001b[A\n",
      "batch 4 / 8:  12%|████████▉                                                              | 1/8 [00:46<05:22, 46.10s/it]\u001b[A\n",
      "batch 5 / 8:  12%|████████▉                                                              | 1/8 [00:46<05:22, 46.10s/it]\u001b[A\n",
      "batch 5 / 8:  75%|█████████████████████████████████████████████████████▎                 | 6/8 [00:46<01:04, 32.27s/it]\u001b[A\n",
      "batch 6 / 8:  75%|█████████████████████████████████████████████████████▎                 | 6/8 [00:46<01:04, 32.27s/it]\u001b[A\n",
      "batch 7 / 8: 100%|███████████████████████████████████████████████████████████████████████| 8/8 [00:47<00:00,  5.91s/it]\u001b[A\n",
      "Epoch 1, batch 404. Loss: 0.0955. Global step: 404:   3%|▊                      | 404/11862 [06:58<11:05:04,  3.48s/it]"
     ]
    },
    {
     "name": "stdout",
     "output_type": "stream",
     "text": [
      "avg_acc: 0.9282, avg_levenshtein: 67.0000, avg_segment_error_rate: 1.0601, avg_loss: 0.2550\n",
      "Accuracy has not improved in 1 validation steps. Not saving max-val-acc checkpoint for this validation step.\n",
      "Step 400 is a checkpoint step.\n",
      "Saving checkpoint at:\n",
      "C:\\Users\\Yarden Cohen\\repos\\tweetynet\\doc\\notebooks\\BF_Example_Train_Predict\\TweetyNet\\checkpoints\\checkpoint.pt \n"
     ]
    },
    {
     "name": "stderr",
     "output_type": "stream",
     "text": [
      "Epoch 1, batch 449. Loss: 0.2186. Global step: 449:   4%|▉                         | 446/11862 [07:00<23:31,  8.09it/s]\n",
      "  0%|                                                                                            | 0/8 [00:00<?, ?it/s]\u001b[A"
     ]
    },
    {
     "name": "stdout",
     "output_type": "stream",
     "text": [
      "Step 450 is a validation step; computing metrics on validation set\n"
     ]
    },
    {
     "name": "stderr",
     "output_type": "stream",
     "text": [
      "Epoch 1, batch 449. Loss: 0.2186. Global step: 449:   4%|▉                         | 446/11862 [07:10<23:31,  8.09it/s]\n",
      "batch 0 / 8:   0%|                                                                               | 0/8 [00:43<?, ?it/s]\u001b[A\n",
      "batch 0 / 8:  12%|████████▉                                                              | 1/8 [00:43<05:06, 43.82s/it]\u001b[A\n",
      "batch 1 / 8:  12%|████████▉                                                              | 1/8 [00:43<05:06, 43.82s/it]\u001b[A\n",
      "batch 2 / 8:  12%|████████▉                                                              | 1/8 [00:43<05:06, 43.82s/it]\u001b[A\n",
      "batch 3 / 8:  12%|████████▉                                                              | 1/8 [00:43<05:06, 43.82s/it]\u001b[A\n",
      "batch 4 / 8:  12%|████████▉                                                              | 1/8 [00:43<05:06, 43.82s/it]\u001b[A\n",
      "batch 4 / 8:  62%|████████████████████████████████████████████▍                          | 5/8 [00:43<01:32, 30.68s/it]\u001b[A\n",
      "batch 5 / 8:  62%|████████████████████████████████████████████▍                          | 5/8 [00:43<01:32, 30.68s/it]\u001b[A\n",
      "batch 6 / 8:  62%|████████████████████████████████████████████▍                          | 5/8 [00:43<01:32, 30.68s/it]\u001b[A\n",
      "batch 7 / 8:  62%|████████████████████████████████████████████▍                          | 5/8 [00:44<01:32, 30.68s/it]\u001b[A\n",
      "batch 7 / 8: 100%|███████████████████████████████████████████████████████████████████████| 8/8 [00:45<00:00,  5.63s/it]\u001b[A\n",
      "Epoch 1, batch 453. Loss: 0.1560. Global step: 453:   4%|▉                       | 453/11862 [07:45<7:44:57,  2.45s/it]"
     ]
    },
    {
     "name": "stdout",
     "output_type": "stream",
     "text": [
      "avg_acc: 0.9435, avg_levenshtein: 51.0000, avg_segment_error_rate: 0.8104, avg_loss: 0.1967\n",
      "Accuracy on validation set improved. Saving max-val-acc checkpoint.\n",
      "Saving checkpoint at:\n",
      "C:\\Users\\Yarden Cohen\\repos\\tweetynet\\doc\\notebooks\\BF_Example_Train_Predict\\TweetyNet\\checkpoints\\max-val-acc-checkpoint.pt \n"
     ]
    },
    {
     "name": "stderr",
     "output_type": "stream",
     "text": [
      "Epoch 1, batch 499. Loss: 0.1526. Global step: 499:   4%|█                         | 496/11862 [07:46<17:52, 10.60it/s]\n",
      "  0%|                                                                                            | 0/8 [00:00<?, ?it/s]\u001b[A"
     ]
    },
    {
     "name": "stdout",
     "output_type": "stream",
     "text": [
      "Step 500 is a validation step; computing metrics on validation set\n"
     ]
    },
    {
     "name": "stderr",
     "output_type": "stream",
     "text": [
      "Epoch 1, batch 499. Loss: 0.1526. Global step: 499:   4%|█                         | 496/11862 [08:00<17:52, 10.60it/s]\n",
      "batch 0 / 8:   0%|                                                                               | 0/8 [00:43<?, ?it/s]\u001b[A\n",
      "batch 0 / 8:  12%|████████▉                                                              | 1/8 [00:43<05:04, 43.56s/it]\u001b[A\n",
      "batch 1 / 8:  12%|████████▉                                                              | 1/8 [00:43<05:04, 43.56s/it]\u001b[A\n",
      "batch 2 / 8:  12%|████████▉                                                              | 1/8 [00:43<05:04, 43.56s/it]\u001b[A\n",
      "batch 3 / 8:  12%|████████▉                                                              | 1/8 [00:43<05:04, 43.56s/it]\u001b[A\n",
      "batch 4 / 8:  12%|████████▉                                                              | 1/8 [00:43<05:04, 43.56s/it]\u001b[A\n",
      "batch 4 / 8:  62%|████████████████████████████████████████████▍                          | 5/8 [00:43<01:31, 30.50s/it]\u001b[A\n",
      "batch 5 / 8:  62%|████████████████████████████████████████████▍                          | 5/8 [00:43<01:31, 30.50s/it]\u001b[A\n",
      "batch 6 / 8:  62%|████████████████████████████████████████████▍                          | 5/8 [00:43<01:31, 30.50s/it]\u001b[A\n",
      "batch 7 / 8: 100%|███████████████████████████████████████████████████████████████████████| 8/8 [00:44<00:00,  5.60s/it]\u001b[A\n",
      "Epoch 1, batch 506. Loss: 0.2943. Global step: 506:   4%|█                       | 504/11862 [08:31<7:36:45,  2.41s/it]"
     ]
    },
    {
     "name": "stdout",
     "output_type": "stream",
     "text": [
      "avg_acc: 0.9431, avg_levenshtein: 56.0000, avg_segment_error_rate: 0.8848, avg_loss: 0.1933\n",
      "Accuracy has not improved in 1 validation steps. Not saving max-val-acc checkpoint for this validation step.\n"
     ]
    },
    {
     "name": "stderr",
     "output_type": "stream",
     "text": [
      "Epoch 1, batch 549. Loss: 0.1671. Global step: 549:   5%|█▏                        | 549/11862 [08:32<13:53, 13.58it/s]\n",
      "  0%|                                                                                            | 0/8 [00:00<?, ?it/s]\u001b[A"
     ]
    },
    {
     "name": "stdout",
     "output_type": "stream",
     "text": [
      "Step 550 is a validation step; computing metrics on validation set\n"
     ]
    },
    {
     "name": "stderr",
     "output_type": "stream",
     "text": [
      "Epoch 1, batch 549. Loss: 0.1671. Global step: 549:   5%|█▏                        | 549/11862 [08:50<13:53, 13.58it/s]\n",
      "batch 0 / 8:   0%|                                                                               | 0/8 [00:45<?, ?it/s]\u001b[A\n",
      "batch 0 / 8:  12%|████████▉                                                              | 1/8 [00:45<05:15, 45.05s/it]\u001b[A\n",
      "batch 1 / 8:  12%|████████▉                                                              | 1/8 [00:45<05:15, 45.05s/it]\u001b[A\n",
      "batch 2 / 8:  12%|████████▉                                                              | 1/8 [00:45<05:15, 45.05s/it]\u001b[A\n",
      "batch 3 / 8:  12%|████████▉                                                              | 1/8 [00:45<05:15, 45.05s/it]\u001b[A\n",
      "batch 4 / 8:  12%|████████▉                                                              | 1/8 [00:45<05:15, 45.05s/it]\u001b[A\n",
      "batch 4 / 8:  62%|████████████████████████████████████████████▍                          | 5/8 [00:45<01:34, 31.54s/it]\u001b[A\n",
      "batch 5 / 8:  62%|████████████████████████████████████████████▍                          | 5/8 [00:45<01:34, 31.54s/it]\u001b[A\n",
      "batch 6 / 8:  62%|████████████████████████████████████████████▍                          | 5/8 [00:45<01:34, 31.54s/it]\u001b[A\n",
      "batch 7 / 8:  62%|████████████████████████████████████████████▍                          | 5/8 [00:45<01:34, 31.54s/it]\u001b[A\n",
      "batch 7 / 8: 100%|███████████████████████████████████████████████████████████████████████| 8/8 [00:46<00:00,  5.80s/it]\u001b[A\n",
      "Epoch 1, batch 555. Loss: 0.2301. Global step: 555:   5%|█                      | 553/11862 [09:19<30:48:00,  9.80s/it]"
     ]
    },
    {
     "name": "stdout",
     "output_type": "stream",
     "text": [
      "avg_acc: 0.9474, avg_levenshtein: 54.0000, avg_segment_error_rate: 0.8488, avg_loss: 0.1835\n",
      "Accuracy on validation set improved. Saving max-val-acc checkpoint.\n",
      "Saving checkpoint at:\n",
      "C:\\Users\\Yarden Cohen\\repos\\tweetynet\\doc\\notebooks\\BF_Example_Train_Predict\\TweetyNet\\checkpoints\\max-val-acc-checkpoint.pt \n"
     ]
    },
    {
     "name": "stderr",
     "output_type": "stream",
     "text": [
      "Epoch 1, batch 599. Loss: 0.1982. Global step: 599:   5%|█▎                        | 596/11862 [09:20<56:50,  3.30it/s]\n",
      "  0%|                                                                                            | 0/8 [00:00<?, ?it/s]\u001b[A"
     ]
    },
    {
     "name": "stdout",
     "output_type": "stream",
     "text": [
      "Step 600 is a validation step; computing metrics on validation set\n"
     ]
    },
    {
     "name": "stderr",
     "output_type": "stream",
     "text": [
      "Epoch 1, batch 599. Loss: 0.1982. Global step: 599:   5%|█▎                        | 596/11862 [09:40<56:50,  3.30it/s]\n",
      "batch 0 / 8:   0%|                                                                               | 0/8 [00:44<?, ?it/s]\u001b[A\n",
      "batch 0 / 8:  12%|████████▉                                                              | 1/8 [00:44<05:08, 44.03s/it]\u001b[A\n",
      "batch 1 / 8:  12%|████████▉                                                              | 1/8 [00:44<05:08, 44.03s/it]\u001b[A\n",
      "batch 2 / 8:  12%|████████▉                                                              | 1/8 [00:44<05:08, 44.03s/it]\u001b[A\n",
      "batch 3 / 8:  12%|████████▉                                                              | 1/8 [00:44<05:08, 44.03s/it]\u001b[A\n",
      "batch 4 / 8:  12%|████████▉                                                              | 1/8 [00:44<05:08, 44.03s/it]\u001b[A\n",
      "batch 4 / 8:  62%|████████████████████████████████████████████▍                          | 5/8 [00:44<01:32, 30.83s/it]\u001b[A\n",
      "batch 5 / 8:  62%|████████████████████████████████████████████▍                          | 5/8 [00:44<01:32, 30.83s/it]\u001b[A\n",
      "batch 6 / 8:  62%|████████████████████████████████████████████▍                          | 5/8 [00:44<01:32, 30.83s/it]\u001b[A\n",
      "batch 7 / 8:  62%|████████████████████████████████████████████▍                          | 5/8 [00:44<01:32, 30.83s/it]\u001b[A\n",
      "batch 7 / 8: 100%|███████████████████████████████████████████████████████████████████████| 8/8 [00:45<00:00,  5.66s/it]\u001b[A\n",
      "Epoch 1, batch 604. Loss: 0.1735. Global step: 604:   5%|█▏                      | 603/11862 [10:05<7:57:41,  2.55s/it]"
     ]
    },
    {
     "name": "stdout",
     "output_type": "stream",
     "text": [
      "avg_acc: 0.9533, avg_levenshtein: 43.0000, avg_segment_error_rate: 0.6716, avg_loss: 0.1747\n",
      "Accuracy on validation set improved. Saving max-val-acc checkpoint.\n",
      "Saving checkpoint at:\n",
      "C:\\Users\\Yarden Cohen\\repos\\tweetynet\\doc\\notebooks\\BF_Example_Train_Predict\\TweetyNet\\checkpoints\\max-val-acc-checkpoint.pt \n",
      "Step 600 is a checkpoint step.\n",
      "Saving checkpoint at:\n",
      "C:\\Users\\Yarden Cohen\\repos\\tweetynet\\doc\\notebooks\\BF_Example_Train_Predict\\TweetyNet\\checkpoints\\checkpoint.pt \n"
     ]
    },
    {
     "name": "stderr",
     "output_type": "stream",
     "text": [
      "Epoch 1, batch 649. Loss: 0.1504. Global step: 649:   5%|█▍                        | 649/11862 [10:06<14:13, 13.13it/s]\n",
      "  0%|                                                                                            | 0/8 [00:00<?, ?it/s]\u001b[A"
     ]
    },
    {
     "name": "stdout",
     "output_type": "stream",
     "text": [
      "Step 650 is a validation step; computing metrics on validation set\n"
     ]
    },
    {
     "name": "stderr",
     "output_type": "stream",
     "text": [
      "Epoch 1, batch 649. Loss: 0.1504. Global step: 649:   5%|█▍                        | 649/11862 [10:20<14:13, 13.13it/s]\n",
      "batch 0 / 8:   0%|                                                                               | 0/8 [00:45<?, ?it/s]\u001b[A\n",
      "batch 0 / 8:  12%|████████▉                                                              | 1/8 [00:45<05:15, 45.04s/it]\u001b[A\n",
      "batch 1 / 8:  12%|████████▉                                                              | 1/8 [00:45<05:15, 45.04s/it]\u001b[A\n",
      "batch 2 / 8:  12%|████████▉                                                              | 1/8 [00:45<05:15, 45.04s/it]\u001b[A\n",
      "batch 3 / 8:  12%|████████▉                                                              | 1/8 [00:45<05:15, 45.04s/it]\u001b[A\n",
      "batch 4 / 8:  12%|████████▉                                                              | 1/8 [00:45<05:15, 45.04s/it]\u001b[A\n",
      "batch 5 / 8:  12%|████████▉                                                              | 1/8 [00:45<05:15, 45.04s/it]\u001b[A\n",
      "batch 5 / 8:  75%|█████████████████████████████████████████████████████▎                 | 6/8 [00:45<01:03, 31.54s/it]\u001b[A\n",
      "batch 6 / 8:  75%|█████████████████████████████████████████████████████▎                 | 6/8 [00:45<01:03, 31.54s/it]\u001b[A\n",
      "batch 7 / 8: 100%|███████████████████████████████████████████████████████████████████████| 8/8 [00:46<00:00,  5.79s/it]\u001b[A\n",
      "Epoch 1, batch 654. Loss: 0.1881. Global step: 654:   6%|█▎                     | 653/11862 [10:53<30:28:57,  9.79s/it]"
     ]
    },
    {
     "name": "stdout",
     "output_type": "stream",
     "text": [
      "avg_acc: 0.9576, avg_levenshtein: 35.0000, avg_segment_error_rate: 0.5532, avg_loss: 0.1527\n",
      "Accuracy on validation set improved. Saving max-val-acc checkpoint.\n",
      "Saving checkpoint at:\n",
      "C:\\Users\\Yarden Cohen\\repos\\tweetynet\\doc\\notebooks\\BF_Example_Train_Predict\\TweetyNet\\checkpoints\\max-val-acc-checkpoint.pt \n"
     ]
    },
    {
     "name": "stderr",
     "output_type": "stream",
     "text": [
      "Epoch 1, batch 699. Loss: 0.0866. Global step: 699:   6%|█▌                        | 699/11862 [10:54<41:02,  4.53it/s]\n",
      "  0%|                                                                                            | 0/8 [00:00<?, ?it/s]\u001b[A"
     ]
    },
    {
     "name": "stdout",
     "output_type": "stream",
     "text": [
      "Step 700 is a validation step; computing metrics on validation set\n"
     ]
    },
    {
     "name": "stderr",
     "output_type": "stream",
     "text": [
      "Epoch 1, batch 699. Loss: 0.0866. Global step: 699:   6%|█▌                        | 699/11862 [11:10<41:02,  4.53it/s]\n",
      "batch 0 / 8:   0%|                                                                               | 0/8 [00:45<?, ?it/s]\u001b[A\n",
      "batch 0 / 8:  12%|████████▉                                                              | 1/8 [00:45<05:18, 45.44s/it]\u001b[A\n",
      "batch 1 / 8:  12%|████████▉                                                              | 1/8 [00:45<05:18, 45.44s/it]\u001b[A\n",
      "batch 2 / 8:  12%|████████▉                                                              | 1/8 [00:45<05:18, 45.44s/it]\u001b[A\n",
      "batch 3 / 8:  12%|████████▉                                                              | 1/8 [00:45<05:18, 45.44s/it]\u001b[A\n",
      "batch 4 / 8:  12%|████████▉                                                              | 1/8 [00:45<05:18, 45.44s/it]\u001b[A\n",
      "batch 5 / 8:  12%|████████▉                                                              | 1/8 [00:45<05:18, 45.44s/it]\u001b[A\n",
      "batch 5 / 8:  75%|█████████████████████████████████████████████████████▎                 | 6/8 [00:45<01:03, 31.82s/it]\u001b[A\n",
      "batch 6 / 8:  75%|█████████████████████████████████████████████████████▎                 | 6/8 [00:45<01:03, 31.82s/it]\u001b[A\n",
      "batch 7 / 8: 100%|███████████████████████████████████████████████████████████████████████| 8/8 [00:46<00:00,  5.83s/it]\u001b[A\n",
      "Epoch 1, batch 704. Loss: 0.0970. Global step: 704:   6%|█▎                     | 703/11862 [11:41<30:47:24,  9.93s/it]"
     ]
    },
    {
     "name": "stdout",
     "output_type": "stream",
     "text": [
      "avg_acc: 0.9666, avg_levenshtein: 29.0000, avg_segment_error_rate: 0.4405, avg_loss: 0.1249\n",
      "Accuracy on validation set improved. Saving max-val-acc checkpoint.\n",
      "Saving checkpoint at:\n",
      "C:\\Users\\Yarden Cohen\\repos\\tweetynet\\doc\\notebooks\\BF_Example_Train_Predict\\TweetyNet\\checkpoints\\max-val-acc-checkpoint.pt \n"
     ]
    },
    {
     "name": "stderr",
     "output_type": "stream",
     "text": [
      "Epoch 1, batch 749. Loss: 0.1497. Global step: 749:   6%|█▋                        | 749/11862 [11:42<41:02,  4.51it/s]\n",
      "  0%|                                                                                            | 0/8 [00:00<?, ?it/s]\u001b[A"
     ]
    },
    {
     "name": "stdout",
     "output_type": "stream",
     "text": [
      "Step 750 is a validation step; computing metrics on validation set\n"
     ]
    },
    {
     "name": "stderr",
     "output_type": "stream",
     "text": [
      "Epoch 1, batch 749. Loss: 0.1497. Global step: 749:   6%|█▋                        | 749/11862 [12:00<41:02,  4.51it/s]\n",
      "batch 0 / 8:   0%|                                                                               | 0/8 [00:43<?, ?it/s]\u001b[A\n",
      "batch 0 / 8:  12%|████████▉                                                              | 1/8 [00:43<05:06, 43.81s/it]\u001b[A\n",
      "batch 1 / 8:  12%|████████▉                                                              | 1/8 [00:43<05:06, 43.81s/it]\u001b[A\n",
      "batch 2 / 8:  12%|████████▉                                                              | 1/8 [00:43<05:06, 43.81s/it]\u001b[A\n",
      "batch 3 / 8:  12%|████████▉                                                              | 1/8 [00:43<05:06, 43.81s/it]\u001b[A\n",
      "batch 4 / 8:  12%|████████▉                                                              | 1/8 [00:43<05:06, 43.81s/it]\u001b[A\n",
      "batch 5 / 8:  12%|████████▉                                                              | 1/8 [00:43<05:06, 43.81s/it]\u001b[A\n",
      "batch 5 / 8:  75%|█████████████████████████████████████████████████████▎                 | 6/8 [00:43<01:01, 30.67s/it]\u001b[A\n",
      "batch 6 / 8:  75%|█████████████████████████████████████████████████████▎                 | 6/8 [00:43<01:01, 30.67s/it]\u001b[A\n",
      "batch 7 / 8: 100%|███████████████████████████████████████████████████████████████████████| 8/8 [00:45<00:00,  5.64s/it]\u001b[A\n",
      "Epoch 1, batch 755. Loss: 0.0870. Global step: 755:   6%|█▍                     | 754/11862 [12:28<29:36:01,  9.59s/it]"
     ]
    },
    {
     "name": "stdout",
     "output_type": "stream",
     "text": [
      "avg_acc: 0.9636, avg_levenshtein: 26.0000, avg_segment_error_rate: 0.3930, avg_loss: 0.1336\n",
      "Accuracy has not improved in 1 validation steps. Not saving max-val-acc checkpoint for this validation step.\n"
     ]
    },
    {
     "name": "stderr",
     "output_type": "stream",
     "text": [
      "Epoch 1, batch 799. Loss: 0.1725. Global step: 799:   7%|█▋                        | 798/11862 [12:29<39:43,  4.64it/s]\n",
      "  0%|                                                                                            | 0/8 [00:00<?, ?it/s]\u001b[A"
     ]
    },
    {
     "name": "stdout",
     "output_type": "stream",
     "text": [
      "Step 800 is a validation step; computing metrics on validation set\n"
     ]
    },
    {
     "name": "stderr",
     "output_type": "stream",
     "text": [
      "Epoch 1, batch 799. Loss: 0.1725. Global step: 799:   7%|█▋                        | 798/11862 [12:40<39:43,  4.64it/s]\n",
      "batch 0 / 8:   0%|                                                                               | 0/8 [00:47<?, ?it/s]\u001b[A\n",
      "batch 0 / 8:  12%|████████▉                                                              | 1/8 [00:47<05:30, 47.28s/it]\u001b[A\n",
      "batch 1 / 8:  12%|████████▉                                                              | 1/8 [00:47<05:30, 47.28s/it]\u001b[A\n",
      "batch 2 / 8:  12%|████████▉                                                              | 1/8 [00:47<05:30, 47.28s/it]\u001b[A\n",
      "batch 3 / 8:  12%|████████▉                                                              | 1/8 [00:47<05:30, 47.28s/it]\u001b[A\n",
      "batch 4 / 8:  12%|████████▉                                                              | 1/8 [00:47<05:30, 47.28s/it]\u001b[A\n",
      "batch 4 / 8:  62%|████████████████████████████████████████████▍                          | 5/8 [00:47<01:39, 33.10s/it]\u001b[A\n",
      "batch 5 / 8:  62%|████████████████████████████████████████████▍                          | 5/8 [00:47<01:39, 33.10s/it]\u001b[A\n",
      "batch 6 / 8:  62%|████████████████████████████████████████████▍                          | 5/8 [00:47<01:39, 33.10s/it]\u001b[A\n",
      "batch 7 / 8: 100%|███████████████████████████████████████████████████████████████████████| 8/8 [00:48<00:00,  6.07s/it]\u001b[A\n",
      "Epoch 1, batch 805. Loss: 0.0679. Global step: 805:   7%|█▌                     | 804/11862 [13:17<16:01:59,  5.22s/it]"
     ]
    },
    {
     "name": "stdout",
     "output_type": "stream",
     "text": [
      "avg_acc: 0.9636, avg_levenshtein: 29.0000, avg_segment_error_rate: 0.4605, avg_loss: 0.1248\n",
      "Accuracy has not improved in 2 validation steps. Not saving max-val-acc checkpoint for this validation step.\n",
      "Step 800 is a checkpoint step.\n",
      "Saving checkpoint at:\n",
      "C:\\Users\\Yarden Cohen\\repos\\tweetynet\\doc\\notebooks\\BF_Example_Train_Predict\\TweetyNet\\checkpoints\\checkpoint.pt \n"
     ]
    },
    {
     "name": "stderr",
     "output_type": "stream",
     "text": [
      "Epoch 1, batch 849. Loss: 0.1028. Global step: 849:   7%|█▊                        | 849/11862 [13:19<24:05,  7.62it/s]\n",
      "  0%|                                                                                            | 0/8 [00:00<?, ?it/s]\u001b[A"
     ]
    },
    {
     "name": "stdout",
     "output_type": "stream",
     "text": [
      "Step 850 is a validation step; computing metrics on validation set\n"
     ]
    },
    {
     "name": "stderr",
     "output_type": "stream",
     "text": [
      "Epoch 1, batch 849. Loss: 0.1028. Global step: 849:   7%|█▊                        | 849/11862 [13:30<24:05,  7.62it/s]\n",
      "batch 0 / 8:   0%|                                                                               | 0/8 [00:45<?, ?it/s]\u001b[A\n",
      "batch 0 / 8:  12%|████████▉                                                              | 1/8 [00:45<05:15, 45.08s/it]\u001b[A\n",
      "batch 1 / 8:  12%|████████▉                                                              | 1/8 [00:45<05:15, 45.08s/it]\u001b[A\n",
      "batch 2 / 8:  12%|████████▉                                                              | 1/8 [00:45<05:15, 45.08s/it]\u001b[A\n",
      "batch 3 / 8:  12%|████████▉                                                              | 1/8 [00:45<05:15, 45.08s/it]\u001b[A\n",
      "batch 4 / 8:  12%|████████▉                                                              | 1/8 [00:45<05:15, 45.08s/it]\u001b[A\n",
      "batch 4 / 8:  62%|████████████████████████████████████████████▍                          | 5/8 [00:45<01:34, 31.56s/it]\u001b[A\n",
      "batch 5 / 8:  62%|████████████████████████████████████████████▍                          | 5/8 [00:45<01:34, 31.56s/it]\u001b[A\n",
      "batch 6 / 8:  62%|████████████████████████████████████████████▍                          | 5/8 [00:45<01:34, 31.56s/it]\u001b[A\n",
      "batch 7 / 8: 100%|███████████████████████████████████████████████████████████████████████| 8/8 [00:46<00:00,  5.80s/it]\u001b[A\n",
      "Epoch 1, batch 856. Loss: 0.0762. Global step: 856:   7%|█▋                     | 854/11862 [14:05<30:01:33,  9.82s/it]"
     ]
    },
    {
     "name": "stdout",
     "output_type": "stream",
     "text": [
      "avg_acc: 0.9657, avg_levenshtein: 21.0000, avg_segment_error_rate: 0.3375, avg_loss: 0.1178\n",
      "Accuracy has not improved in 3 validation steps. Not saving max-val-acc checkpoint for this validation step.\n"
     ]
    },
    {
     "name": "stderr",
     "output_type": "stream",
     "text": [
      "Epoch 1, batch 899. Loss: 0.0893. Global step: 899:   8%|█▉                        | 896/11862 [14:06<55:28,  3.29it/s]\n",
      "  0%|                                                                                            | 0/8 [00:00<?, ?it/s]\u001b[A"
     ]
    },
    {
     "name": "stdout",
     "output_type": "stream",
     "text": [
      "Step 900 is a validation step; computing metrics on validation set\n"
     ]
    },
    {
     "name": "stderr",
     "output_type": "stream",
     "text": [
      "Epoch 1, batch 899. Loss: 0.0893. Global step: 899:   8%|█▉                        | 896/11862 [14:20<55:28,  3.29it/s]\n",
      "batch 0 / 8:   0%|                                                                               | 0/8 [00:44<?, ?it/s]\u001b[A\n",
      "batch 0 / 8:  12%|████████▉                                                              | 1/8 [00:44<05:09, 44.20s/it]\u001b[A\n",
      "batch 1 / 8:  12%|████████▉                                                              | 1/8 [00:44<05:09, 44.20s/it]\u001b[A\n",
      "batch 2 / 8:  12%|████████▉                                                              | 1/8 [00:44<05:09, 44.20s/it]\u001b[A\n",
      "batch 3 / 8:  12%|████████▉                                                              | 1/8 [00:44<05:09, 44.20s/it]\u001b[A\n",
      "batch 4 / 8:  12%|████████▉                                                              | 1/8 [00:44<05:09, 44.20s/it]\u001b[A\n",
      "batch 5 / 8:  12%|████████▉                                                              | 1/8 [00:44<05:09, 44.20s/it]\u001b[A\n",
      "batch 5 / 8:  75%|█████████████████████████████████████████████████████▎                 | 6/8 [00:44<01:01, 30.95s/it]\u001b[A\n",
      "batch 6 / 8:  75%|█████████████████████████████████████████████████████▎                 | 6/8 [00:44<01:01, 30.95s/it]\u001b[A\n",
      "batch 7 / 8: 100%|███████████████████████████████████████████████████████████████████████| 8/8 [00:45<00:00,  5.67s/it]\u001b[A\n",
      "Epoch 1, batch 905. Loss: 0.1334. Global step: 905:   8%|█▊                      | 904/11862 [14:52<7:45:14,  2.55s/it]"
     ]
    },
    {
     "name": "stdout",
     "output_type": "stream",
     "text": [
      "avg_acc: 0.9696, avg_levenshtein: 21.0000, avg_segment_error_rate: 0.3122, avg_loss: 0.1009\n",
      "Accuracy on validation set improved. Saving max-val-acc checkpoint.\n",
      "Saving checkpoint at:\n",
      "C:\\Users\\Yarden Cohen\\repos\\tweetynet\\doc\\notebooks\\BF_Example_Train_Predict\\TweetyNet\\checkpoints\\max-val-acc-checkpoint.pt \n"
     ]
    },
    {
     "name": "stderr",
     "output_type": "stream",
     "text": [
      "Epoch 1, batch 949. Loss: 0.0663. Global step: 949:   8%|██                        | 949/11862 [14:53<13:50, 13.14it/s]\n",
      "  0%|                                                                                            | 0/8 [00:00<?, ?it/s]\u001b[A"
     ]
    },
    {
     "name": "stdout",
     "output_type": "stream",
     "text": [
      "Step 950 is a validation step; computing metrics on validation set\n"
     ]
    },
    {
     "name": "stderr",
     "output_type": "stream",
     "text": [
      "Epoch 1, batch 949. Loss: 0.0663. Global step: 949:   8%|██                        | 949/11862 [15:10<13:50, 13.14it/s]\n",
      "batch 0 / 8:   0%|                                                                               | 0/8 [00:45<?, ?it/s]\u001b[A\n",
      "batch 0 / 8:  12%|████████▉                                                              | 1/8 [00:45<05:15, 45.04s/it]\u001b[A\n",
      "batch 1 / 8:  12%|████████▉                                                              | 1/8 [00:45<05:15, 45.04s/it]\u001b[A\n",
      "batch 2 / 8:  12%|████████▉                                                              | 1/8 [00:45<05:15, 45.04s/it]\u001b[A\n",
      "batch 3 / 8:  12%|████████▉                                                              | 1/8 [00:45<05:15, 45.04s/it]\u001b[A\n",
      "batch 4 / 8:  12%|████████▉                                                              | 1/8 [00:45<05:15, 45.04s/it]\u001b[A\n",
      "batch 4 / 8:  62%|████████████████████████████████████████████▍                          | 5/8 [00:45<01:34, 31.54s/it]\u001b[A\n",
      "batch 5 / 8:  62%|████████████████████████████████████████████▍                          | 5/8 [00:45<01:34, 31.54s/it]\u001b[A\n",
      "batch 6 / 8:  62%|████████████████████████████████████████████▍                          | 5/8 [00:45<01:34, 31.54s/it]\u001b[A\n",
      "batch 7 / 8: 100%|███████████████████████████████████████████████████████████████████████| 8/8 [00:46<00:00,  5.78s/it]\u001b[A\n",
      "Epoch 1, batch 955. Loss: 0.0954. Global step: 955:   8%|█▊                     | 954/11862 [15:40<29:37:05,  9.78s/it]"
     ]
    },
    {
     "name": "stdout",
     "output_type": "stream",
     "text": [
      "avg_acc: 0.9694, avg_levenshtein: 23.0000, avg_segment_error_rate: 0.3591, avg_loss: 0.1027\n",
      "Accuracy has not improved in 1 validation steps. Not saving max-val-acc checkpoint for this validation step.\n"
     ]
    },
    {
     "name": "stderr",
     "output_type": "stream",
     "text": [
      "Epoch 1, batch 999. Loss: 0.0620. Global step: 999:   8%|██▏                       | 999/11862 [15:41<39:54,  4.54it/s]\n",
      "  0%|                                                                                            | 0/8 [00:00<?, ?it/s]\u001b[A"
     ]
    },
    {
     "name": "stdout",
     "output_type": "stream",
     "text": [
      "Step 1000 is a validation step; computing metrics on validation set\n"
     ]
    },
    {
     "name": "stderr",
     "output_type": "stream",
     "text": [
      "Epoch 1, batch 999. Loss: 0.0620. Global step: 999:   8%|██▏                       | 999/11862 [16:00<39:54,  4.54it/s]\n",
      "batch 0 / 8:   0%|                                                                               | 0/8 [00:44<?, ?it/s]\u001b[A\n",
      "batch 0 / 8:  12%|████████▉                                                              | 1/8 [00:44<05:10, 44.37s/it]\u001b[A\n",
      "batch 1 / 8:  12%|████████▉                                                              | 1/8 [00:44<05:10, 44.37s/it]\u001b[A\n",
      "batch 2 / 8:  12%|████████▉                                                              | 1/8 [00:44<05:10, 44.37s/it]\u001b[A\n",
      "batch 3 / 8:  12%|████████▉                                                              | 1/8 [00:44<05:10, 44.37s/it]\u001b[A\n",
      "batch 4 / 8:  12%|████████▉                                                              | 1/8 [00:44<05:10, 44.37s/it]\u001b[A\n",
      "batch 4 / 8:  62%|████████████████████████████████████████████▍                          | 5/8 [00:44<01:33, 31.07s/it]\u001b[A\n",
      "batch 5 / 8:  62%|████████████████████████████████████████████▍                          | 5/8 [00:44<01:33, 31.07s/it]\u001b[A\n",
      "batch 6 / 8:  62%|████████████████████████████████████████████▍                          | 5/8 [00:44<01:33, 31.07s/it]\u001b[A\n",
      "batch 7 / 8: 100%|███████████████████████████████████████████████████████████████████████| 8/8 [00:45<00:00,  5.70s/it]\u001b[A\n",
      "Epoch 1, batch 1003. Loss: 0.0790. Global step: 1003:   8%|█▋                  | 1000/11862 [16:27<41:51:21, 13.87s/it]"
     ]
    },
    {
     "name": "stdout",
     "output_type": "stream",
     "text": [
      "avg_acc: 0.9718, avg_levenshtein: 14.0000, avg_segment_error_rate: 0.2133, avg_loss: 0.0999\n",
      "Accuracy on validation set improved. Saving max-val-acc checkpoint.\n",
      "Saving checkpoint at:\n",
      "C:\\Users\\Yarden Cohen\\repos\\tweetynet\\doc\\notebooks\\BF_Example_Train_Predict\\TweetyNet\\checkpoints\\max-val-acc-checkpoint.pt \n",
      "Step 1000 is a checkpoint step.\n",
      "Saving checkpoint at:\n",
      "C:\\Users\\Yarden Cohen\\repos\\tweetynet\\doc\\notebooks\\BF_Example_Train_Predict\\TweetyNet\\checkpoints\\checkpoint.pt \n"
     ]
    },
    {
     "name": "stderr",
     "output_type": "stream",
     "text": [
      "Epoch 1, batch 1049. Loss: 0.1002. Global step: 1049:   9%|██                     | 1049/11862 [16:28<39:26,  4.57it/s]\n",
      "  0%|                                                                                            | 0/8 [00:00<?, ?it/s]\u001b[A"
     ]
    },
    {
     "name": "stdout",
     "output_type": "stream",
     "text": [
      "Step 1050 is a validation step; computing metrics on validation set\n"
     ]
    },
    {
     "name": "stderr",
     "output_type": "stream",
     "text": [
      "Epoch 1, batch 1049. Loss: 0.1002. Global step: 1049:   9%|██                     | 1049/11862 [16:40<39:26,  4.57it/s]\n",
      "batch 0 / 8:   0%|                                                                               | 0/8 [00:44<?, ?it/s]\u001b[A\n",
      "batch 0 / 8:  12%|████████▉                                                              | 1/8 [00:44<05:12, 44.66s/it]\u001b[A\n",
      "batch 1 / 8:  12%|████████▉                                                              | 1/8 [00:44<05:12, 44.66s/it]\u001b[A\n",
      "batch 2 / 8:  12%|████████▉                                                              | 1/8 [00:44<05:12, 44.66s/it]\u001b[A\n",
      "batch 3 / 8:  12%|████████▉                                                              | 1/8 [00:44<05:12, 44.66s/it]\u001b[A\n",
      "batch 4 / 8:  12%|████████▉                                                              | 1/8 [00:44<05:12, 44.66s/it]\u001b[A\n",
      "batch 4 / 8:  62%|████████████████████████████████████████████▍                          | 5/8 [00:44<01:33, 31.27s/it]\u001b[A\n",
      "batch 5 / 8:  62%|████████████████████████████████████████████▍                          | 5/8 [00:44<01:33, 31.27s/it]\u001b[A\n",
      "batch 6 / 8:  62%|████████████████████████████████████████████▍                          | 5/8 [00:44<01:33, 31.27s/it]\u001b[A\n",
      "batch 7 / 8: 100%|███████████████████████████████████████████████████████████████████████| 8/8 [00:45<00:00,  5.73s/it]\u001b[A\n",
      "Epoch 1, batch 1056. Loss: 0.0990. Global step: 1056:   9%|█▊                  | 1055/11862 [17:14<29:16:37,  9.75s/it]"
     ]
    },
    {
     "name": "stdout",
     "output_type": "stream",
     "text": [
      "avg_acc: 0.9693, avg_levenshtein: 23.0000, avg_segment_error_rate: 0.3449, avg_loss: 0.1007\n",
      "Accuracy has not improved in 1 validation steps. Not saving max-val-acc checkpoint for this validation step.\n"
     ]
    },
    {
     "name": "stderr",
     "output_type": "stream",
     "text": [
      "Epoch 1, batch 1099. Loss: 0.0622. Global step: 1099:   9%|██▏                    | 1096/11862 [17:15<54:11,  3.31it/s]\n",
      "  0%|                                                                                            | 0/8 [00:00<?, ?it/s]\u001b[A"
     ]
    },
    {
     "name": "stdout",
     "output_type": "stream",
     "text": [
      "Step 1100 is a validation step; computing metrics on validation set\n"
     ]
    },
    {
     "name": "stderr",
     "output_type": "stream",
     "text": [
      "Epoch 1, batch 1099. Loss: 0.0622. Global step: 1099:   9%|██▏                    | 1096/11862 [17:30<54:11,  3.31it/s]\n",
      "batch 0 / 8:   0%|                                                                               | 0/8 [00:43<?, ?it/s]\u001b[A\n",
      "batch 0 / 8:  12%|████████▉                                                              | 1/8 [00:43<05:03, 43.42s/it]\u001b[A\n",
      "batch 1 / 8:  12%|████████▉                                                              | 1/8 [00:43<05:03, 43.42s/it]\u001b[A\n",
      "batch 2 / 8:  12%|████████▉                                                              | 1/8 [00:43<05:03, 43.42s/it]\u001b[A\n",
      "batch 3 / 8:  12%|████████▉                                                              | 1/8 [00:43<05:03, 43.42s/it]\u001b[A\n",
      "batch 4 / 8:  12%|████████▉                                                              | 1/8 [00:43<05:03, 43.42s/it]\u001b[A\n",
      "batch 4 / 8:  62%|████████████████████████████████████████████▍                          | 5/8 [00:43<01:31, 30.40s/it]\u001b[A\n",
      "batch 5 / 8:  62%|████████████████████████████████████████████▍                          | 5/8 [00:43<01:31, 30.40s/it]\u001b[A\n",
      "batch 6 / 8:  62%|████████████████████████████████████████████▍                          | 5/8 [00:43<01:31, 30.40s/it]\u001b[A\n",
      "batch 7 / 8: 100%|███████████████████████████████████████████████████████████████████████| 8/8 [00:44<00:00,  5.59s/it]\u001b[A\n",
      "Epoch 1, batch 1107. Loss: 0.1392. Global step: 1107:   9%|█▉                   | 1105/11862 [18:00<7:29:36,  2.51s/it]"
     ]
    },
    {
     "name": "stdout",
     "output_type": "stream",
     "text": [
      "avg_acc: 0.9677, avg_levenshtein: 23.0000, avg_segment_error_rate: 0.3716, avg_loss: 0.1051\n",
      "Accuracy has not improved in 2 validation steps. Not saving max-val-acc checkpoint for this validation step.\n"
     ]
    },
    {
     "name": "stderr",
     "output_type": "stream",
     "text": [
      "Epoch 1, batch 1149. Loss: 0.0503. Global step: 1149:  10%|██▏                    | 1147/11862 [18:01<17:26, 10.24it/s]\n",
      "  0%|                                                                                            | 0/8 [00:00<?, ?it/s]\u001b[A"
     ]
    },
    {
     "name": "stdout",
     "output_type": "stream",
     "text": [
      "Step 1150 is a validation step; computing metrics on validation set\n"
     ]
    },
    {
     "name": "stderr",
     "output_type": "stream",
     "text": [
      "Epoch 1, batch 1149. Loss: 0.0503. Global step: 1149:  10%|██▏                    | 1147/11862 [18:20<17:26, 10.24it/s]\n",
      "batch 0 / 8:   0%|                                                                               | 0/8 [00:43<?, ?it/s]\u001b[A\n",
      "batch 0 / 8:  12%|████████▉                                                              | 1/8 [00:43<05:03, 43.39s/it]\u001b[A\n",
      "batch 1 / 8:  12%|████████▉                                                              | 1/8 [00:43<05:03, 43.39s/it]\u001b[A\n",
      "batch 2 / 8:  12%|████████▉                                                              | 1/8 [00:43<05:03, 43.39s/it]\u001b[A\n",
      "batch 3 / 8:  12%|████████▉                                                              | 1/8 [00:43<05:03, 43.39s/it]\u001b[A\n",
      "batch 4 / 8:  12%|████████▉                                                              | 1/8 [00:43<05:03, 43.39s/it]\u001b[A\n",
      "batch 5 / 8:  12%|████████▉                                                              | 1/8 [00:43<05:03, 43.39s/it]\u001b[A\n",
      "batch 5 / 8:  75%|█████████████████████████████████████████████████████▎                 | 6/8 [00:43<01:00, 30.38s/it]\u001b[A\n",
      "batch 6 / 8:  75%|█████████████████████████████████████████████████████▎                 | 6/8 [00:43<01:00, 30.38s/it]\u001b[A\n",
      "batch 7 / 8: 100%|███████████████████████████████████████████████████████████████████████| 8/8 [00:44<00:00,  5.58s/it]\u001b[A\n",
      "Epoch 1, batch 1157. Loss: 0.0433. Global step: 1157:  10%|██                   | 1155/11862 [18:46<9:28:49,  3.19s/it]"
     ]
    },
    {
     "name": "stdout",
     "output_type": "stream",
     "text": [
      "avg_acc: 0.9716, avg_levenshtein: 16.0000, avg_segment_error_rate: 0.2486, avg_loss: 0.0969\n",
      "Accuracy has not improved in 3 validation steps. Not saving max-val-acc checkpoint for this validation step.\n"
     ]
    },
    {
     "name": "stderr",
     "output_type": "stream",
     "text": [
      "Epoch 1, batch 1199. Loss: 0.0540. Global step: 1199:  10%|██▎                    | 1196/11862 [18:47<21:27,  8.28it/s]\n",
      "  0%|                                                                                            | 0/8 [00:00<?, ?it/s]\u001b[A"
     ]
    },
    {
     "name": "stdout",
     "output_type": "stream",
     "text": [
      "Step 1200 is a validation step; computing metrics on validation set\n"
     ]
    },
    {
     "name": "stderr",
     "output_type": "stream",
     "text": [
      "Epoch 1, batch 1199. Loss: 0.0540. Global step: 1199:  10%|██▎                    | 1196/11862 [19:00<21:27,  8.28it/s]\n",
      "batch 0 / 8:   0%|                                                                               | 0/8 [00:43<?, ?it/s]\u001b[A\n",
      "batch 0 / 8:  12%|████████▉                                                              | 1/8 [00:43<05:06, 43.83s/it]\u001b[A\n",
      "batch 1 / 8:  12%|████████▉                                                              | 1/8 [00:43<05:06, 43.83s/it]\u001b[A\n",
      "batch 2 / 8:  12%|████████▉                                                              | 1/8 [00:43<05:06, 43.83s/it]\u001b[A\n",
      "batch 3 / 8:  12%|████████▉                                                              | 1/8 [00:43<05:06, 43.83s/it]\u001b[A\n",
      "batch 4 / 8:  12%|████████▉                                                              | 1/8 [00:43<05:06, 43.83s/it]\u001b[A\n",
      "batch 5 / 8:  12%|████████▉                                                              | 1/8 [00:43<05:06, 43.83s/it]\u001b[A\n",
      "batch 5 / 8:  75%|█████████████████████████████████████████████████████▎                 | 6/8 [00:43<01:01, 30.69s/it]\u001b[A\n",
      "batch 6 / 8:  75%|█████████████████████████████████████████████████████▎                 | 6/8 [00:43<01:01, 30.69s/it]\u001b[A\n",
      "batch 7 / 8: 100%|███████████████████████████████████████████████████████████████████████| 8/8 [00:45<00:00,  5.63s/it]\u001b[A\n",
      "Epoch 1, batch 1203. Loss: 0.0798. Global step: 1203:  10%|██▏                  | 1203/11862 [19:32<7:13:28,  2.44s/it]"
     ]
    },
    {
     "name": "stdout",
     "output_type": "stream",
     "text": [
      "avg_acc: 0.9723, avg_levenshtein: 14.0000, avg_segment_error_rate: 0.2190, avg_loss: 0.0888\n",
      "Accuracy on validation set improved. Saving max-val-acc checkpoint.\n",
      "Saving checkpoint at:\n",
      "C:\\Users\\Yarden Cohen\\repos\\tweetynet\\doc\\notebooks\\BF_Example_Train_Predict\\TweetyNet\\checkpoints\\max-val-acc-checkpoint.pt \n",
      "Step 1200 is a checkpoint step.\n",
      "Saving checkpoint at:\n",
      "C:\\Users\\Yarden Cohen\\repos\\tweetynet\\doc\\notebooks\\BF_Example_Train_Predict\\TweetyNet\\checkpoints\\checkpoint.pt \n"
     ]
    },
    {
     "name": "stderr",
     "output_type": "stream",
     "text": [
      "Epoch 1, batch 1249. Loss: 0.0816. Global step: 1249:  11%|██▍                    | 1248/11862 [19:34<13:18, 13.29it/s]\n",
      "  0%|                                                                                            | 0/8 [00:00<?, ?it/s]\u001b[A"
     ]
    },
    {
     "name": "stdout",
     "output_type": "stream",
     "text": [
      "Step 1250 is a validation step; computing metrics on validation set\n"
     ]
    },
    {
     "name": "stderr",
     "output_type": "stream",
     "text": [
      "Epoch 1, batch 1249. Loss: 0.0816. Global step: 1249:  11%|██▍                    | 1248/11862 [19:50<13:18, 13.29it/s]\n",
      "batch 0 / 8:   0%|                                                                               | 0/8 [00:44<?, ?it/s]\u001b[A\n",
      "batch 0 / 8:  12%|████████▉                                                              | 1/8 [00:44<05:11, 44.55s/it]\u001b[A\n",
      "batch 1 / 8:  12%|████████▉                                                              | 1/8 [00:44<05:11, 44.55s/it]\u001b[A\n",
      "batch 2 / 8:  12%|████████▉                                                              | 1/8 [00:44<05:11, 44.55s/it]\u001b[A\n",
      "batch 3 / 8:  12%|████████▉                                                              | 1/8 [00:44<05:11, 44.55s/it]\u001b[A\n",
      "batch 4 / 8:  12%|████████▉                                                              | 1/8 [00:44<05:11, 44.55s/it]\u001b[A\n",
      "batch 5 / 8:  12%|████████▉                                                              | 1/8 [00:44<05:11, 44.55s/it]\u001b[A\n",
      "batch 5 / 8:  75%|█████████████████████████████████████████████████████▎                 | 6/8 [00:44<01:02, 31.19s/it]\u001b[A\n",
      "batch 6 / 8:  75%|█████████████████████████████████████████████████████▎                 | 6/8 [00:44<01:02, 31.19s/it]\u001b[A\n",
      "batch 7 / 8: 100%|███████████████████████████████████████████████████████████████████████| 8/8 [00:45<00:00,  5.72s/it]\u001b[A\n",
      "Epoch 1, batch 1254. Loss: 0.0480. Global step: 1254:  11%|██                  | 1254/11862 [20:19<14:18:52,  4.86s/it]"
     ]
    },
    {
     "name": "stdout",
     "output_type": "stream",
     "text": [
      "avg_acc: 0.9747, avg_levenshtein: 13.0000, avg_segment_error_rate: 0.1937, avg_loss: 0.0874\n",
      "Accuracy on validation set improved. Saving max-val-acc checkpoint.\n",
      "Saving checkpoint at:\n",
      "C:\\Users\\Yarden Cohen\\repos\\tweetynet\\doc\\notebooks\\BF_Example_Train_Predict\\TweetyNet\\checkpoints\\max-val-acc-checkpoint.pt \n"
     ]
    },
    {
     "name": "stderr",
     "output_type": "stream",
     "text": [
      "Epoch 1, batch 1299. Loss: 0.0825. Global step: 1299:  11%|██▌                    | 1297/11862 [20:21<28:43,  6.13it/s]\n",
      "  0%|                                                                                            | 0/8 [00:00<?, ?it/s]\u001b[A"
     ]
    },
    {
     "name": "stdout",
     "output_type": "stream",
     "text": [
      "Step 1300 is a validation step; computing metrics on validation set\n"
     ]
    },
    {
     "name": "stderr",
     "output_type": "stream",
     "text": [
      "Epoch 1, batch 1299. Loss: 0.0825. Global step: 1299:  11%|██▌                    | 1297/11862 [20:40<28:43,  6.13it/s]\n",
      "batch 0 / 8:   0%|                                                                               | 0/8 [00:44<?, ?it/s]\u001b[A\n",
      "batch 0 / 8:  12%|████████▉                                                              | 1/8 [00:44<05:09, 44.22s/it]\u001b[A\n",
      "batch 1 / 8:  12%|████████▉                                                              | 1/8 [00:44<05:09, 44.22s/it]\u001b[A\n",
      "batch 2 / 8:  12%|████████▉                                                              | 1/8 [00:44<05:09, 44.22s/it]\u001b[A\n",
      "batch 3 / 8:  12%|████████▉                                                              | 1/8 [00:44<05:09, 44.22s/it]\u001b[A\n",
      "batch 4 / 8:  12%|████████▉                                                              | 1/8 [00:44<05:09, 44.22s/it]\u001b[A\n",
      "batch 5 / 8:  12%|████████▉                                                              | 1/8 [00:44<05:09, 44.22s/it]\u001b[A\n",
      "batch 5 / 8:  75%|█████████████████████████████████████████████████████▎                 | 6/8 [00:44<01:01, 30.96s/it]\u001b[A\n",
      "batch 6 / 8:  75%|█████████████████████████████████████████████████████▎                 | 6/8 [00:44<01:01, 30.96s/it]\u001b[A\n",
      "batch 7 / 8: 100%|███████████████████████████████████████████████████████████████████████| 8/8 [00:45<00:00,  5.67s/it]\u001b[A\n",
      "Epoch 1, batch 1306. Loss: 0.0261. Global step: 1306:  11%|██▎                  | 1304/11862 [21:06<9:36:08,  3.27s/it]"
     ]
    },
    {
     "name": "stdout",
     "output_type": "stream",
     "text": [
      "avg_acc: 0.9766, avg_levenshtein: 10.0000, avg_segment_error_rate: 0.1490, avg_loss: 0.0812\n",
      "Accuracy on validation set improved. Saving max-val-acc checkpoint.\n",
      "Saving checkpoint at:\n",
      "C:\\Users\\Yarden Cohen\\repos\\tweetynet\\doc\\notebooks\\BF_Example_Train_Predict\\TweetyNet\\checkpoints\\max-val-acc-checkpoint.pt \n"
     ]
    },
    {
     "name": "stderr",
     "output_type": "stream",
     "text": [
      "Epoch 1, batch 1349. Loss: 0.0500. Global step: 1349:  11%|██▌                    | 1346/11862 [21:07<20:56,  8.37it/s]\n",
      "  0%|                                                                                            | 0/8 [00:00<?, ?it/s]\u001b[A"
     ]
    },
    {
     "name": "stdout",
     "output_type": "stream",
     "text": [
      "Step 1350 is a validation step; computing metrics on validation set\n"
     ]
    },
    {
     "name": "stderr",
     "output_type": "stream",
     "text": [
      "Epoch 1, batch 1349. Loss: 0.0500. Global step: 1349:  11%|██▌                    | 1346/11862 [21:20<20:56,  8.37it/s]\n",
      "batch 0 / 8:   0%|                                                                               | 0/8 [00:44<?, ?it/s]\u001b[A\n",
      "batch 0 / 8:  12%|████████▉                                                              | 1/8 [00:44<05:12, 44.64s/it]\u001b[A\n",
      "batch 1 / 8:  12%|████████▉                                                              | 1/8 [00:44<05:12, 44.64s/it]\u001b[A\n",
      "batch 2 / 8:  12%|████████▉                                                              | 1/8 [00:44<05:12, 44.64s/it]\u001b[A\n",
      "batch 3 / 8:  12%|████████▉                                                              | 1/8 [00:44<05:12, 44.64s/it]\u001b[A\n",
      "batch 4 / 8:  12%|████████▉                                                              | 1/8 [00:44<05:12, 44.64s/it]\u001b[A\n",
      "batch 5 / 8:  12%|████████▉                                                              | 1/8 [00:44<05:12, 44.64s/it]\u001b[A\n",
      "batch 5 / 8:  75%|█████████████████████████████████████████████████████▎                 | 6/8 [00:44<01:02, 31.25s/it]\u001b[A\n",
      "batch 6 / 8:  75%|█████████████████████████████████████████████████████▎                 | 6/8 [00:44<01:02, 31.25s/it]\u001b[A\n",
      "batch 7 / 8: 100%|███████████████████████████████████████████████████████████████████████| 8/8 [00:45<00:00,  5.74s/it]\u001b[A\n",
      "Epoch 1, batch 1357. Loss: 0.0299. Global step: 1357:  11%|██▍                  | 1355/11862 [21:53<7:14:22,  2.48s/it]"
     ]
    },
    {
     "name": "stdout",
     "output_type": "stream",
     "text": [
      "avg_acc: 0.9710, avg_levenshtein: 16.0000, avg_segment_error_rate: 0.2408, avg_loss: 0.0911\n",
      "Accuracy has not improved in 1 validation steps. Not saving max-val-acc checkpoint for this validation step.\n"
     ]
    },
    {
     "name": "stderr",
     "output_type": "stream",
     "text": [
      "Epoch 1, batch 1399. Loss: 0.0475. Global step: 1399:  12%|██▋                    | 1396/11862 [21:55<16:55, 10.31it/s]\n",
      "  0%|                                                                                            | 0/8 [00:00<?, ?it/s]\u001b[A"
     ]
    },
    {
     "name": "stdout",
     "output_type": "stream",
     "text": [
      "Step 1400 is a validation step; computing metrics on validation set\n"
     ]
    },
    {
     "name": "stderr",
     "output_type": "stream",
     "text": [
      "Epoch 1, batch 1399. Loss: 0.0475. Global step: 1399:  12%|██▋                    | 1396/11862 [22:10<16:55, 10.31it/s]\n",
      "batch 0 / 8:   0%|                                                                               | 0/8 [00:44<?, ?it/s]\u001b[A\n",
      "batch 0 / 8:  12%|████████▉                                                              | 1/8 [00:44<05:12, 44.60s/it]\u001b[A\n",
      "batch 1 / 8:  12%|████████▉                                                              | 1/8 [00:44<05:12, 44.60s/it]\u001b[A\n",
      "batch 2 / 8:  12%|████████▉                                                              | 1/8 [00:44<05:12, 44.60s/it]\u001b[A\n",
      "batch 3 / 8:  12%|████████▉                                                              | 1/8 [00:44<05:12, 44.60s/it]\u001b[A\n",
      "batch 4 / 8:  12%|████████▉                                                              | 1/8 [00:44<05:12, 44.60s/it]\u001b[A\n",
      "batch 5 / 8:  12%|████████▉                                                              | 1/8 [00:44<05:12, 44.60s/it]\u001b[A\n",
      "batch 5 / 8:  75%|█████████████████████████████████████████████████████▎                 | 6/8 [00:44<01:02, 31.23s/it]\u001b[A\n",
      "batch 6 / 8:  75%|█████████████████████████████████████████████████████▎                 | 6/8 [00:44<01:02, 31.23s/it]\u001b[A\n",
      "batch 7 / 8: 100%|███████████████████████████████████████████████████████████████████████| 8/8 [00:45<00:00,  5.72s/it]\u001b[A\n",
      "Epoch 1, batch 1405. Loss: 0.0429. Global step: 1405:  12%|██▍                  | 1404/11862 [22:41<7:10:02,  2.47s/it]"
     ]
    },
    {
     "name": "stdout",
     "output_type": "stream",
     "text": [
      "avg_acc: 0.9730, avg_levenshtein: 17.0000, avg_segment_error_rate: 0.2539, avg_loss: 0.0832\n",
      "Accuracy has not improved in 2 validation steps. Not saving max-val-acc checkpoint for this validation step.\n",
      "Step 1400 is a checkpoint step.\n",
      "Saving checkpoint at:\n",
      "C:\\Users\\Yarden Cohen\\repos\\tweetynet\\doc\\notebooks\\BF_Example_Train_Predict\\TweetyNet\\checkpoints\\checkpoint.pt \n"
     ]
    },
    {
     "name": "stderr",
     "output_type": "stream",
     "text": [
      "Epoch 1, batch 1449. Loss: 0.0318. Global step: 1449:  12%|██▊                    | 1449/11862 [22:42<13:09, 13.19it/s]\n",
      "  0%|                                                                                            | 0/8 [00:00<?, ?it/s]\u001b[A"
     ]
    },
    {
     "name": "stdout",
     "output_type": "stream",
     "text": [
      "Step 1450 is a validation step; computing metrics on validation set\n"
     ]
    },
    {
     "name": "stderr",
     "output_type": "stream",
     "text": [
      "Epoch 1, batch 1449. Loss: 0.0318. Global step: 1449:  12%|██▊                    | 1449/11862 [23:00<13:09, 13.19it/s]\n",
      "batch 0 / 8:   0%|                                                                               | 0/8 [00:44<?, ?it/s]\u001b[A\n",
      "batch 0 / 8:  12%|████████▉                                                              | 1/8 [00:44<05:09, 44.25s/it]\u001b[A\n",
      "batch 1 / 8:  12%|████████▉                                                              | 1/8 [00:44<05:09, 44.25s/it]\u001b[A\n",
      "batch 2 / 8:  12%|████████▉                                                              | 1/8 [00:44<05:09, 44.25s/it]\u001b[A\n",
      "batch 3 / 8:  12%|████████▉                                                              | 1/8 [00:44<05:09, 44.25s/it]\u001b[A\n",
      "batch 4 / 8:  12%|████████▉                                                              | 1/8 [00:44<05:09, 44.25s/it]\u001b[A\n",
      "batch 5 / 8:  12%|████████▉                                                              | 1/8 [00:44<05:09, 44.25s/it]\u001b[A\n",
      "batch 5 / 8:  75%|█████████████████████████████████████████████████████▎                 | 6/8 [00:44<01:01, 30.98s/it]\u001b[A\n",
      "batch 6 / 8:  75%|█████████████████████████████████████████████████████▎                 | 6/8 [00:44<01:01, 30.98s/it]\u001b[A\n",
      "batch 7 / 8: 100%|███████████████████████████████████████████████████████████████████████| 8/8 [00:45<00:00,  5.68s/it]\u001b[A\n",
      "Epoch 1, batch 1457. Loss: 0.0477. Global step: 1457:  12%|██▍                 | 1455/11862 [23:27<27:43:50,  9.59s/it]"
     ]
    },
    {
     "name": "stdout",
     "output_type": "stream",
     "text": [
      "avg_acc: 0.9763, avg_levenshtein: 9.0000, avg_segment_error_rate: 0.1382, avg_loss: 0.0766\n",
      "Accuracy has not improved in 3 validation steps. Not saving max-val-acc checkpoint for this validation step.\n"
     ]
    },
    {
     "name": "stderr",
     "output_type": "stream",
     "text": [
      "Epoch 1, batch 1499. Loss: 0.0609. Global step: 1499:  13%|██▉                    | 1496/11862 [23:29<51:33,  3.35it/s]\n",
      "  0%|                                                                                            | 0/8 [00:00<?, ?it/s]\u001b[A"
     ]
    },
    {
     "name": "stdout",
     "output_type": "stream",
     "text": [
      "Step 1500 is a validation step; computing metrics on validation set\n"
     ]
    },
    {
     "name": "stderr",
     "output_type": "stream",
     "text": [
      "Epoch 1, batch 1499. Loss: 0.0609. Global step: 1499:  13%|██▉                    | 1496/11862 [23:40<51:33,  3.35it/s]\n",
      "batch 0 / 8:   0%|                                                                               | 0/8 [00:44<?, ?it/s]\u001b[A\n",
      "batch 0 / 8:  12%|████████▉                                                              | 1/8 [00:44<05:08, 44.01s/it]\u001b[A\n",
      "batch 1 / 8:  12%|████████▉                                                              | 1/8 [00:44<05:08, 44.01s/it]\u001b[A\n",
      "batch 2 / 8:  12%|████████▉                                                              | 1/8 [00:44<05:08, 44.01s/it]\u001b[A\n",
      "batch 3 / 8:  12%|████████▉                                                              | 1/8 [00:44<05:08, 44.01s/it]\u001b[A\n",
      "batch 4 / 8:  12%|████████▉                                                              | 1/8 [00:44<05:08, 44.01s/it]\u001b[A\n",
      "batch 5 / 8:  12%|████████▉                                                              | 1/8 [00:44<05:08, 44.01s/it]\u001b[A\n",
      "batch 5 / 8:  75%|█████████████████████████████████████████████████████▎                 | 6/8 [00:44<01:01, 30.81s/it]\u001b[A\n",
      "batch 6 / 8:  75%|█████████████████████████████████████████████████████▎                 | 6/8 [00:44<01:01, 30.81s/it]\u001b[A\n",
      "batch 7 / 8: 100%|███████████████████████████████████████████████████████████████████████| 8/8 [00:45<00:00,  5.65s/it]\u001b[A\n",
      "Epoch 1, batch 1505. Loss: 0.0514. Global step: 1505:  13%|██▋                  | 1504/11862 [24:14<7:17:38,  2.54s/it]"
     ]
    },
    {
     "name": "stdout",
     "output_type": "stream",
     "text": [
      "avg_acc: 0.9764, avg_levenshtein: 13.0000, avg_segment_error_rate: 0.1966, avg_loss: 0.0759\n",
      "Accuracy has not improved in 4 validation steps. Not saving max-val-acc checkpoint for this validation step.\n"
     ]
    },
    {
     "name": "stderr",
     "output_type": "stream",
     "text": [
      "Epoch 1, batch 1549. Loss: 0.0461. Global step: 1549:  13%|██▉                    | 1546/11862 [24:15<16:45, 10.26it/s]\n",
      "  0%|                                                                                            | 0/8 [00:00<?, ?it/s]\u001b[A"
     ]
    },
    {
     "name": "stdout",
     "output_type": "stream",
     "text": [
      "Step 1550 is a validation step; computing metrics on validation set\n"
     ]
    },
    {
     "name": "stderr",
     "output_type": "stream",
     "text": [
      "Epoch 1, batch 1549. Loss: 0.0461. Global step: 1549:  13%|██▉                    | 1546/11862 [24:30<16:45, 10.26it/s]\n",
      "batch 0 / 8:   0%|                                                                               | 0/8 [00:42<?, ?it/s]\u001b[A\n",
      "batch 0 / 8:  12%|████████▉                                                              | 1/8 [00:42<04:59, 42.82s/it]\u001b[A\n",
      "batch 1 / 8:  12%|████████▉                                                              | 1/8 [00:42<04:59, 42.82s/it]\u001b[A\n",
      "batch 2 / 8:  12%|████████▉                                                              | 1/8 [00:42<04:59, 42.82s/it]\u001b[A\n",
      "batch 3 / 8:  12%|████████▉                                                              | 1/8 [00:42<04:59, 42.82s/it]\u001b[A\n",
      "batch 4 / 8:  12%|████████▉                                                              | 1/8 [00:42<04:59, 42.82s/it]\u001b[A\n",
      "batch 5 / 8:  12%|████████▉                                                              | 1/8 [00:42<04:59, 42.82s/it]\u001b[A\n",
      "batch 5 / 8:  75%|█████████████████████████████████████████████████████▎                 | 6/8 [00:42<00:59, 29.98s/it]\u001b[A\n",
      "batch 6 / 8:  75%|█████████████████████████████████████████████████████▎                 | 6/8 [00:42<00:59, 29.98s/it]\u001b[A\n",
      "batch 7 / 8: 100%|███████████████████████████████████████████████████████████████████████| 8/8 [00:44<00:00,  5.51s/it]\u001b[A\n",
      "Epoch 1, batch 1549. Loss: 0.0461. Global step: 1549:  13%|██▋                  | 1546/11862 [24:59<2:46:47,  1.03it/s]\n"
     ]
    },
    {
     "name": "stdout",
     "output_type": "stream",
     "text": [
      "avg_acc: 0.9742, avg_levenshtein: 17.0000, avg_segment_error_rate: 0.2630, avg_loss: 0.0805\n",
      "Stopping training early, accuracy has not improved in 4 validation steps.\n",
      "Saving checkpoint at:\n",
      "C:\\Users\\Yarden Cohen\\repos\\tweetynet\\doc\\notebooks\\BF_Example_Train_Predict\\TweetyNet\\checkpoints\\checkpoint.pt \n"
     ]
    }
   ],
   "source": [
    "# train the model\n",
    "model.fit(train_data=train_data,\n",
    "          num_epochs=num_epochs,\n",
    "          ckpt_root=ckpt_root,\n",
    "          val_data=val_data,\n",
    "          val_step=val_step,\n",
    "          ckpt_step=ckpt_step,\n",
    "          patience=patience,\n",
    "          device=device)"
   ]
  },
  {
   "cell_type": "markdown",
   "metadata": {},
   "source": [
    "Now that we have a trained model we can use it to predict segments and labels in a test set"
   ]
  },
  {
   "cell_type": "code",
   "execution_count": 94,
   "metadata": {},
   "outputs": [],
   "source": [
    "# setting up parameters for prediction\n",
    "path_of_configuration_file = \"C:\\\\Users\\\\Yarden Cohen\\\\repos\\\\tweetynet\\\\doc\\\\notebooks\\\\BF_Example_Train_Predict\\\\gy6or6_032212_example_eval.toml\"\n",
    "\n",
    "toml_path = Path(path_of_configuration_file)\n",
    "cfg = parse.from_toml(toml_path)\n",
    "min_segment_dur = 0.01\n",
    "device='cuda'\n",
    "spect_key='s'\n",
    "timebins_key='t'\n",
    "spect_standardizer = joblib.load(cfg.eval.spect_scaler_path)\n",
    "with cfg.eval.labelmap_path.open('r') as f:\n",
    "        labelmap = json.load(f)"
   ]
  },
  {
   "cell_type": "code",
   "execution_count": 95,
   "metadata": {},
   "outputs": [],
   "source": [
    "# prepare evaluation data\n",
    "item_transform = transforms.get_defaults('eval',\n",
    "                                             spect_standardizer=None,\n",
    "                                             window_size=cfg.dataloader.window_size,\n",
    "                                             return_padding_mask=True,\n",
    "                                             )\n",
    "\n",
    "eval_dataset = VocalDataset.from_csv(csv_path=cfg.eval.csv_path,\n",
    "                                     split='test',\n",
    "                                     labelmap=labelmap,\n",
    "                                     spect_key=spect_key,\n",
    "                                     timebins_key=timebins_key,\n",
    "                                     item_transform=item_transform,\n",
    "                                     )\n",
    "\n",
    "eval_data = torch.utils.data.DataLoader(dataset=eval_dataset,\n",
    "                                        shuffle=False,\n",
    "                                        # batch size 1 because each spectrogram reshaped into a batch of windows\n",
    "                                        batch_size=1,\n",
    "                                        num_workers=cfg.eval.num_workers)\n"
   ]
  },
  {
   "cell_type": "code",
   "execution_count": 96,
   "metadata": {},
   "outputs": [
    {
     "name": "stderr",
     "output_type": "stream",
     "text": [
      "\n",
      "\n",
      "\n",
      "  0%|                                                                                           | 0/17 [00:00<?, ?it/s]\u001b[A\u001b[A\u001b[A"
     ]
    },
    {
     "name": "stdout",
     "output_type": "stream",
     "text": [
      "Loading checkpoint from:\n",
      "C:\\Users\\Yarden Cohen\\repos\\tweetynet\\doc\\notebooks\\BF_Example_Train_Predict\\TweetyNet\\checkpoints\\max-val-acc-checkpoint.pt \n"
     ]
    },
    {
     "name": "stderr",
     "output_type": "stream",
     "text": [
      "\n",
      "\n",
      "\n",
      "batch 0 / 17:   0%|                                                                             | 0/17 [00:42<?, ?it/s]\u001b[A\u001b[A\u001b[A\n",
      "\n",
      "\n",
      "batch 0 / 17:   6%|████                                                                 | 1/17 [00:42<11:19, 42.44s/it]\u001b[A\u001b[A\u001b[A\n",
      "\n",
      "\n",
      "batch 1 / 17:   6%|████                                                                 | 1/17 [00:42<11:19, 42.44s/it]\u001b[A\u001b[A\u001b[A\n",
      "\n",
      "\n",
      "batch 2 / 17:   6%|████                                                                 | 1/17 [00:42<11:19, 42.44s/it]\u001b[A\u001b[A\u001b[A\n",
      "\n",
      "\n",
      "batch 3 / 17:   6%|████                                                                 | 1/17 [00:42<11:19, 42.44s/it]\u001b[A\u001b[A\u001b[A\n",
      "\n",
      "\n",
      "batch 4 / 17:   6%|████                                                                 | 1/17 [00:42<11:19, 42.44s/it]\u001b[A\u001b[A\u001b[A\n",
      "\n",
      "\n",
      "batch 5 / 17:   6%|████                                                                 | 1/17 [00:42<11:19, 42.44s/it]\u001b[A\u001b[A\u001b[A\n",
      "\n",
      "\n",
      "batch 6 / 17:   6%|████                                                                 | 1/17 [00:42<11:19, 42.44s/it]\u001b[A\u001b[A\u001b[A\n",
      "\n",
      "\n",
      "batch 7 / 17:   6%|████                                                                 | 1/17 [00:42<11:19, 42.44s/it]\u001b[A\u001b[A\u001b[A\n",
      "\n",
      "\n",
      "batch 7 / 17:  47%|████████████████████████████████▍                                    | 8/17 [00:42<04:27, 29.72s/it]\u001b[A\u001b[A\u001b[A\n",
      "\n",
      "\n",
      "batch 8 / 17:  47%|████████████████████████████████▍                                    | 8/17 [00:42<04:27, 29.72s/it]\u001b[A\u001b[A\u001b[A\n",
      "\n",
      "\n",
      "batch 9 / 17:  47%|████████████████████████████████▍                                    | 8/17 [00:42<04:27, 29.72s/it]\u001b[A\u001b[A\u001b[A\n",
      "\n",
      "\n",
      "batch 10 / 17:  47%|████████████████████████████████                                    | 8/17 [00:42<04:27, 29.72s/it]\u001b[A\u001b[A\u001b[A\n",
      "\n",
      "\n",
      "batch 11 / 17:  47%|████████████████████████████████                                    | 8/17 [00:42<04:27, 29.72s/it]\u001b[A\u001b[A\u001b[A\n",
      "\n",
      "\n",
      "batch 12 / 17:  47%|████████████████████████████████                                    | 8/17 [00:42<04:27, 29.72s/it]\u001b[A\u001b[A\u001b[A\n",
      "\n",
      "\n",
      "batch 13 / 17:  47%|████████████████████████████████                                    | 8/17 [00:42<04:27, 29.72s/it]\u001b[A\u001b[A\u001b[A\n",
      "\n",
      "\n",
      "batch 14 / 17:  47%|████████████████████████████████                                    | 8/17 [00:42<04:27, 29.72s/it]\u001b[A\u001b[A\u001b[A\n",
      "\n",
      "\n",
      "batch 14 / 17:  88%|███████████████████████████████████████████████████████████        | 15/17 [00:42<00:41, 20.81s/it]\u001b[A\u001b[A\u001b[A\n",
      "\n",
      "\n",
      "batch 15 / 17:  88%|███████████████████████████████████████████████████████████        | 15/17 [00:42<00:41, 20.81s/it]\u001b[A\u001b[A\u001b[A\n",
      "\n",
      "\n",
      "batch 16 / 17: 100%|███████████████████████████████████████████████████████████████████| 17/17 [00:43<00:00,  2.57s/it]\u001b[A\u001b[A\u001b[A\n"
     ]
    }
   ],
   "source": [
    "# Create model\n",
    "input_shape = eval_dataset.shape\n",
    "# if dataset returns spectrogram reshaped into windows,\n",
    "# throw out the window dimension; just want to tell network (channels, height, width) shape\n",
    "if len(input_shape) == 4:\n",
    "    input_shape = input_shape[1:]\n",
    "\n",
    "models_map = models.from_model_config_map(\n",
    "    model_config_map,\n",
    "    num_classes=len(labelmap),\n",
    "    input_shape=input_shape\n",
    ")\n",
    "model_name = 'TweetyNet'\n",
    "model = models_map['TweetyNet']\n",
    "model.load(cfg.eval.checkpoint_path)\n",
    "metrics = model.metrics  # metric name -> callable map we use below in loop\n",
    "if device is None:\n",
    "    device = vak.device.get_default_device()\n",
    "pred_dict = model.predict(pred_data=eval_data,\n",
    "                          device=device)"
   ]
  },
  {
   "cell_type": "code",
   "execution_count": 97,
   "metadata": {},
   "outputs": [],
   "source": [
    "def compute_metrics(metrics, y_true, y_pred, y_true_labels, y_pred_labels):\n",
    "    \"\"\"helper function to compute metrics\n",
    "\n",
    "    Parameters\n",
    "    ----------\n",
    "    metrics : dict\n",
    "        where keys are metric names and values are callables that compute the metric\n",
    "        given ground truth and prediction\n",
    "    y_true : torch.Tensor\n",
    "        vector of labeled time bins\n",
    "    y_pred : torch.Tensor\n",
    "        vector of labeled time bins\n",
    "    y_true_labels : str\n",
    "        sequence of segment labels\n",
    "    y_pred_labels : str\n",
    "        sequence of segment labels\n",
    "\n",
    "    Returns\n",
    "    -------\n",
    "    metric_vals : defaultdict\n",
    "    \"\"\"\n",
    "    metric_vals = {}\n",
    "\n",
    "    for metric_name, metric_callable in metrics.items():\n",
    "        if metric_name == 'acc':\n",
    "            metric_vals[metric_name] = metric_callable(y_pred, y_true)\n",
    "        elif metric_name == 'levenshtein':\n",
    "            metric_vals[metric_name] = metric_callable(y_pred_labels, y_true_labels)\n",
    "        elif metric_name == 'segment_error_rate':\n",
    "            metric_vals[metric_name] = metric_callable(y_pred_labels, y_true_labels)\n",
    "\n",
    "    return metric_vals"
   ]
  },
  {
   "cell_type": "code",
   "execution_count": 98,
   "metadata": {},
   "outputs": [
    {
     "name": "stderr",
     "output_type": "stream",
     "text": [
      "\n",
      "\n",
      "\n",
      "  0%|                                                                                           | 0/17 [00:00<?, ?it/s]\u001b[A\u001b[A\u001b[A\n",
      "\n",
      "\n",
      "  6%|████▉                                                                              | 1/17 [00:44<11:46, 44.15s/it]\u001b[A\u001b[A\u001b[A\n",
      "\n",
      "\n",
      " 41%|██████████████████████████████████▏                                                | 7/17 [00:44<05:09, 30.91s/it]\u001b[A\u001b[A\u001b[A\n",
      "\n",
      "\n",
      " 71%|█████████████████████████████████████████████████████████▉                        | 12/17 [00:44<01:48, 21.64s/it]\u001b[A\u001b[A\u001b[A\n",
      "\n",
      "\n",
      "100%|██████████████████████████████████████████████████████████████████████████████████| 17/17 [00:45<00:00,  2.67s/it]\u001b[A\u001b[A\u001b[A\n"
     ]
    }
   ],
   "source": [
    "records = defaultdict(list)  # will be used with pandas.DataFrame.from_records to make output csv\n",
    "to_long_tensor = transforms.ToLongTensor()\n",
    "progress_bar = tqdm(eval_data)\n",
    "for ind, batch in enumerate(progress_bar):\n",
    "    y_true, padding_mask, spect_path = batch['annot'], batch['padding_mask'], batch['spect_path']\n",
    "    # need to convert spect_path to tuple for match in call to index() below\n",
    "    spect_path = tuple(spect_path)\n",
    "    records['spect_path'].append(spect_path[0])  # remove str from tuple\n",
    "    y_true = y_true.to(device)\n",
    "    y_true_np = np.squeeze(y_true.cpu().numpy())\n",
    "    y_true_labels, _, _ = labelfuncs.lbl_tb2segments(y_true_np,\n",
    "                                                     labelmap=labelmap,\n",
    "                                                     timebin_dur=timebin_dur)\n",
    "    y_true_labels = ''.join(y_true_labels.tolist())\n",
    "\n",
    "    y_pred_ind = spect_path[0] #pred_dict['y'].index(spect_path)\n",
    "    y_pred = pred_dict[y_pred_ind] #pred_dict['y_pred'][y_pred_ind]\n",
    "    y_pred = torch.argmax(y_pred, dim=1)  # assumes class dimension is 1\n",
    "    y_pred = torch.flatten(y_pred)\n",
    "    y_pred = y_pred.unsqueeze(0)[padding_mask]\n",
    "    y_pred_np = np.squeeze(y_pred.cpu().numpy())\n",
    "    y_pred_labels, _, _ = labelfuncs.lbl_tb2segments(y_pred_np,\n",
    "                                                     labelmap=labelmap,\n",
    "                                                     timebin_dur=timebin_dur,\n",
    "                                                     min_segment_dur=None,\n",
    "                                                     majority_vote=False)\n",
    "    y_pred_labels = ''.join(y_pred_labels.tolist())\n",
    "\n",
    "    metric_vals_batch = compute_metrics(metrics, y_true, y_pred, y_true_labels, y_pred_labels)\n",
    "    for metric_name, metric_val in metric_vals_batch.items():\n",
    "        records[metric_name].append(metric_val)\n",
    "\n",
    "    # --- apply majority vote and min segment dur transforms separately\n",
    "    # need segment_inds_list for both transforms\n",
    "    segment_inds_list = labelfuncs.lbl_tb_segment_inds_list(y_pred_np,\n",
    "                                                            unlabeled_label=labelmap['unlabeled'])\n",
    "\n",
    "    # ---- majority vote transform\n",
    "    y_pred_np_mv = labelfuncs.majority_vote_transform(y_pred_np, segment_inds_list)\n",
    "    y_pred_mv = to_long_tensor(y_pred_np_mv).to(device)\n",
    "    y_pred_mv_labels, _, _ = labelfuncs.lbl_tb2segments(y_pred_np_mv,\n",
    "                                                        labelmap=labelmap,\n",
    "                                                        timebin_dur=timebin_dur,\n",
    "                                                        min_segment_dur=None,\n",
    "                                                        majority_vote=False)\n",
    "    y_pred_mv_labels = ''.join(y_pred_mv_labels.tolist())\n",
    "    metric_vals_batch_mv = compute_metrics(metrics, y_true, y_pred_mv,\n",
    "                                           y_true_labels, y_pred_mv_labels)\n",
    "    for metric_name, metric_val in metric_vals_batch_mv.items():\n",
    "        records[f'{metric_name}_majority_vote'].append(metric_val)\n",
    "\n",
    "    # ---- min segment dur transform\n",
    "    y_pred_np_mindur, _ = labelfuncs.remove_short_segments(y_pred_np,\n",
    "                                                           segment_inds_list,\n",
    "                                                           timebin_dur=timebin_dur,\n",
    "                                                           min_segment_dur=min_segment_dur,\n",
    "                                                           unlabeled_label=labelmap['unlabeled'])\n",
    "    y_pred_mindur = to_long_tensor(y_pred_np_mindur).to(device)\n",
    "    y_pred_mindur_labels, _, _ = labelfuncs.lbl_tb2segments(y_pred_np_mindur,\n",
    "                                                            labelmap=labelmap,\n",
    "                                                            timebin_dur=timebin_dur,\n",
    "                                                            min_segment_dur=None,\n",
    "                                                            majority_vote=False)\n",
    "    y_pred_mindur_labels = ''.join(y_pred_mindur_labels.tolist())\n",
    "    metric_vals_batch_mindur = compute_metrics(metrics, y_true, y_pred_mindur,\n",
    "                                               y_true_labels, y_pred_mindur_labels)\n",
    "    for metric_name, metric_val in metric_vals_batch_mindur.items():\n",
    "        records[f'{metric_name}_min_segment_dur'].append(metric_val)\n",
    "\n",
    "    # ---- and finally both transforms, in same order we apply for prediction\n",
    "    y_pred_np_mindur_mv, segment_inds_list = labelfuncs.remove_short_segments(y_pred_np,\n",
    "                                                                              segment_inds_list,\n",
    "                                                                              timebin_dur=timebin_dur,\n",
    "                                                                              min_segment_dur=min_segment_dur,\n",
    "                                                                              unlabeled_label=labelmap[\n",
    "                                                                                  'unlabeled'])\n",
    "    y_pred_np_mindur_mv = labelfuncs.majority_vote_transform(y_pred_np_mindur_mv,\n",
    "                                                             segment_inds_list)\n",
    "    y_pred_mindur_mv = to_long_tensor(y_pred_np_mindur_mv).to(device)\n",
    "    y_pred_mindur_mv_labels, _, _ = labelfuncs.lbl_tb2segments(y_pred_np_mindur_mv,\n",
    "                                                               labelmap=labelmap,\n",
    "                                                               timebin_dur=timebin_dur,\n",
    "                                                               min_segment_dur=None,\n",
    "                                                               majority_vote=False)\n",
    "    y_pred_mindur_mv_labels = ''.join(y_pred_mindur_mv_labels.tolist())\n",
    "    metric_vals_batch_mindur_mv = compute_metrics(metrics, y_true, y_pred_mindur_mv,\n",
    "                                                  y_true_labels, y_pred_mindur_mv_labels)\n",
    "    for metric_name, metric_val in metric_vals_batch_mindur_mv.items():\n",
    "        records[f'{metric_name}_min_dur_maj_vote'].append(metric_val)\n",
    "df = pd.DataFrame.from_records(records)"
   ]
  },
  {
   "cell_type": "code",
   "execution_count": 99,
   "metadata": {},
   "outputs": [
    {
     "data": {
      "text/html": [
       "<div>\n",
       "<style scoped>\n",
       "    .dataframe tbody tr th:only-of-type {\n",
       "        vertical-align: middle;\n",
       "    }\n",
       "\n",
       "    .dataframe tbody tr th {\n",
       "        vertical-align: top;\n",
       "    }\n",
       "\n",
       "    .dataframe thead th {\n",
       "        text-align: right;\n",
       "    }\n",
       "</style>\n",
       "<table border=\"1\" class=\"dataframe\">\n",
       "  <thead>\n",
       "    <tr style=\"text-align: right;\">\n",
       "      <th></th>\n",
       "      <th>acc</th>\n",
       "      <th>acc_majority_vote</th>\n",
       "      <th>acc_min_dur_maj_vote</th>\n",
       "      <th>acc_min_segment_dur</th>\n",
       "      <th>levenshtein</th>\n",
       "      <th>levenshtein_majority_vote</th>\n",
       "      <th>levenshtein_min_dur_maj_vote</th>\n",
       "      <th>levenshtein_min_segment_dur</th>\n",
       "      <th>segment_error_rate</th>\n",
       "      <th>segment_error_rate_majority_vote</th>\n",
       "      <th>segment_error_rate_min_dur_maj_vote</th>\n",
       "      <th>segment_error_rate_min_segment_dur</th>\n",
       "      <th>spect_path</th>\n",
       "    </tr>\n",
       "  </thead>\n",
       "  <tbody>\n",
       "    <tr>\n",
       "      <th>0</th>\n",
       "      <td>0.976961</td>\n",
       "      <td>0.980618</td>\n",
       "      <td>0.981167</td>\n",
       "      <td>0.981167</td>\n",
       "      <td>17</td>\n",
       "      <td>2</td>\n",
       "      <td>1</td>\n",
       "      <td>1</td>\n",
       "      <td>0.250000</td>\n",
       "      <td>0.029412</td>\n",
       "      <td>0.014706</td>\n",
       "      <td>0.014706</td>\n",
       "      <td>D:\\BengaleseFinches\\gy6or6\\vak\\spectrograms_ge...</td>\n",
       "    </tr>\n",
       "    <tr>\n",
       "      <th>1</th>\n",
       "      <td>0.980854</td>\n",
       "      <td>0.983544</td>\n",
       "      <td>0.983544</td>\n",
       "      <td>0.983544</td>\n",
       "      <td>8</td>\n",
       "      <td>1</td>\n",
       "      <td>1</td>\n",
       "      <td>1</td>\n",
       "      <td>0.101266</td>\n",
       "      <td>0.012658</td>\n",
       "      <td>0.012658</td>\n",
       "      <td>0.012658</td>\n",
       "      <td>D:\\BengaleseFinches\\gy6or6\\vak\\spectrograms_ge...</td>\n",
       "    </tr>\n",
       "    <tr>\n",
       "      <th>2</th>\n",
       "      <td>0.983028</td>\n",
       "      <td>0.984708</td>\n",
       "      <td>0.985213</td>\n",
       "      <td>0.985213</td>\n",
       "      <td>14</td>\n",
       "      <td>3</td>\n",
       "      <td>0</td>\n",
       "      <td>0</td>\n",
       "      <td>0.208955</td>\n",
       "      <td>0.044776</td>\n",
       "      <td>0.000000</td>\n",
       "      <td>0.000000</td>\n",
       "      <td>D:\\BengaleseFinches\\gy6or6\\vak\\spectrograms_ge...</td>\n",
       "    </tr>\n",
       "    <tr>\n",
       "      <th>3</th>\n",
       "      <td>0.978516</td>\n",
       "      <td>0.980505</td>\n",
       "      <td>0.980505</td>\n",
       "      <td>0.980505</td>\n",
       "      <td>11</td>\n",
       "      <td>1</td>\n",
       "      <td>1</td>\n",
       "      <td>1</td>\n",
       "      <td>0.174603</td>\n",
       "      <td>0.015873</td>\n",
       "      <td>0.015873</td>\n",
       "      <td>0.015873</td>\n",
       "      <td>D:\\BengaleseFinches\\gy6or6\\vak\\spectrograms_ge...</td>\n",
       "    </tr>\n",
       "    <tr>\n",
       "      <th>4</th>\n",
       "      <td>0.975496</td>\n",
       "      <td>0.978614</td>\n",
       "      <td>0.979283</td>\n",
       "      <td>0.979283</td>\n",
       "      <td>11</td>\n",
       "      <td>1</td>\n",
       "      <td>0</td>\n",
       "      <td>0</td>\n",
       "      <td>0.200000</td>\n",
       "      <td>0.018182</td>\n",
       "      <td>0.000000</td>\n",
       "      <td>0.000000</td>\n",
       "      <td>D:\\BengaleseFinches\\gy6or6\\vak\\spectrograms_ge...</td>\n",
       "    </tr>\n",
       "    <tr>\n",
       "      <th>5</th>\n",
       "      <td>0.968452</td>\n",
       "      <td>0.971040</td>\n",
       "      <td>0.971526</td>\n",
       "      <td>0.971526</td>\n",
       "      <td>25</td>\n",
       "      <td>6</td>\n",
       "      <td>4</td>\n",
       "      <td>4</td>\n",
       "      <td>0.308642</td>\n",
       "      <td>0.074074</td>\n",
       "      <td>0.049383</td>\n",
       "      <td>0.049383</td>\n",
       "      <td>D:\\BengaleseFinches\\gy6or6\\vak\\spectrograms_ge...</td>\n",
       "    </tr>\n",
       "    <tr>\n",
       "      <th>6</th>\n",
       "      <td>0.980421</td>\n",
       "      <td>0.981889</td>\n",
       "      <td>0.981889</td>\n",
       "      <td>0.981889</td>\n",
       "      <td>10</td>\n",
       "      <td>3</td>\n",
       "      <td>3</td>\n",
       "      <td>3</td>\n",
       "      <td>0.129870</td>\n",
       "      <td>0.038961</td>\n",
       "      <td>0.038961</td>\n",
       "      <td>0.038961</td>\n",
       "      <td>D:\\BengaleseFinches\\gy6or6\\vak\\spectrograms_ge...</td>\n",
       "    </tr>\n",
       "    <tr>\n",
       "      <th>7</th>\n",
       "      <td>0.978057</td>\n",
       "      <td>0.982140</td>\n",
       "      <td>0.982650</td>\n",
       "      <td>0.982650</td>\n",
       "      <td>16</td>\n",
       "      <td>2</td>\n",
       "      <td>0</td>\n",
       "      <td>0</td>\n",
       "      <td>0.219178</td>\n",
       "      <td>0.027397</td>\n",
       "      <td>0.000000</td>\n",
       "      <td>0.000000</td>\n",
       "      <td>D:\\BengaleseFinches\\gy6or6\\vak\\spectrograms_ge...</td>\n",
       "    </tr>\n",
       "    <tr>\n",
       "      <th>8</th>\n",
       "      <td>0.957321</td>\n",
       "      <td>0.961261</td>\n",
       "      <td>0.964051</td>\n",
       "      <td>0.964051</td>\n",
       "      <td>34</td>\n",
       "      <td>18</td>\n",
       "      <td>12</td>\n",
       "      <td>12</td>\n",
       "      <td>0.523077</td>\n",
       "      <td>0.276923</td>\n",
       "      <td>0.184615</td>\n",
       "      <td>0.184615</td>\n",
       "      <td>D:\\BengaleseFinches\\gy6or6\\vak\\spectrograms_ge...</td>\n",
       "    </tr>\n",
       "    <tr>\n",
       "      <th>9</th>\n",
       "      <td>0.982392</td>\n",
       "      <td>0.983790</td>\n",
       "      <td>0.984908</td>\n",
       "      <td>0.984908</td>\n",
       "      <td>11</td>\n",
       "      <td>4</td>\n",
       "      <td>1</td>\n",
       "      <td>1</td>\n",
       "      <td>0.122222</td>\n",
       "      <td>0.044444</td>\n",
       "      <td>0.011111</td>\n",
       "      <td>0.011111</td>\n",
       "      <td>D:\\BengaleseFinches\\gy6or6\\vak\\spectrograms_ge...</td>\n",
       "    </tr>\n",
       "    <tr>\n",
       "      <th>10</th>\n",
       "      <td>0.983437</td>\n",
       "      <td>0.986555</td>\n",
       "      <td>0.986555</td>\n",
       "      <td>0.986555</td>\n",
       "      <td>14</td>\n",
       "      <td>0</td>\n",
       "      <td>0</td>\n",
       "      <td>0</td>\n",
       "      <td>0.205882</td>\n",
       "      <td>0.000000</td>\n",
       "      <td>0.000000</td>\n",
       "      <td>0.000000</td>\n",
       "      <td>D:\\BengaleseFinches\\gy6or6\\vak\\spectrograms_ge...</td>\n",
       "    </tr>\n",
       "    <tr>\n",
       "      <th>11</th>\n",
       "      <td>0.970833</td>\n",
       "      <td>0.977183</td>\n",
       "      <td>0.977579</td>\n",
       "      <td>0.977579</td>\n",
       "      <td>26</td>\n",
       "      <td>2</td>\n",
       "      <td>1</td>\n",
       "      <td>1</td>\n",
       "      <td>0.342105</td>\n",
       "      <td>0.026316</td>\n",
       "      <td>0.013158</td>\n",
       "      <td>0.013158</td>\n",
       "      <td>D:\\BengaleseFinches\\gy6or6\\vak\\spectrograms_ge...</td>\n",
       "    </tr>\n",
       "    <tr>\n",
       "      <th>12</th>\n",
       "      <td>0.983089</td>\n",
       "      <td>0.985354</td>\n",
       "      <td>0.985354</td>\n",
       "      <td>0.985354</td>\n",
       "      <td>5</td>\n",
       "      <td>0</td>\n",
       "      <td>0</td>\n",
       "      <td>0</td>\n",
       "      <td>0.054945</td>\n",
       "      <td>0.000000</td>\n",
       "      <td>0.000000</td>\n",
       "      <td>0.000000</td>\n",
       "      <td>D:\\BengaleseFinches\\gy6or6\\vak\\spectrograms_ge...</td>\n",
       "    </tr>\n",
       "    <tr>\n",
       "      <th>13</th>\n",
       "      <td>0.982979</td>\n",
       "      <td>0.984712</td>\n",
       "      <td>0.985343</td>\n",
       "      <td>0.985343</td>\n",
       "      <td>18</td>\n",
       "      <td>4</td>\n",
       "      <td>1</td>\n",
       "      <td>1</td>\n",
       "      <td>0.204545</td>\n",
       "      <td>0.045455</td>\n",
       "      <td>0.011364</td>\n",
       "      <td>0.011364</td>\n",
       "      <td>D:\\BengaleseFinches\\gy6or6\\vak\\spectrograms_ge...</td>\n",
       "    </tr>\n",
       "    <tr>\n",
       "      <th>14</th>\n",
       "      <td>0.976258</td>\n",
       "      <td>0.980687</td>\n",
       "      <td>0.981396</td>\n",
       "      <td>0.981396</td>\n",
       "      <td>25</td>\n",
       "      <td>3</td>\n",
       "      <td>2</td>\n",
       "      <td>2</td>\n",
       "      <td>0.362319</td>\n",
       "      <td>0.043478</td>\n",
       "      <td>0.028986</td>\n",
       "      <td>0.028986</td>\n",
       "      <td>D:\\BengaleseFinches\\gy6or6\\vak\\spectrograms_ge...</td>\n",
       "    </tr>\n",
       "    <tr>\n",
       "      <th>15</th>\n",
       "      <td>0.973196</td>\n",
       "      <td>0.979438</td>\n",
       "      <td>0.979438</td>\n",
       "      <td>0.979438</td>\n",
       "      <td>21</td>\n",
       "      <td>2</td>\n",
       "      <td>2</td>\n",
       "      <td>2</td>\n",
       "      <td>0.318182</td>\n",
       "      <td>0.030303</td>\n",
       "      <td>0.030303</td>\n",
       "      <td>0.030303</td>\n",
       "      <td>D:\\BengaleseFinches\\gy6or6\\vak\\spectrograms_ge...</td>\n",
       "    </tr>\n",
       "    <tr>\n",
       "      <th>16</th>\n",
       "      <td>0.981845</td>\n",
       "      <td>0.985394</td>\n",
       "      <td>0.985394</td>\n",
       "      <td>0.985394</td>\n",
       "      <td>20</td>\n",
       "      <td>0</td>\n",
       "      <td>0</td>\n",
       "      <td>0</td>\n",
       "      <td>0.210526</td>\n",
       "      <td>0.000000</td>\n",
       "      <td>0.000000</td>\n",
       "      <td>0.000000</td>\n",
       "      <td>D:\\BengaleseFinches\\gy6or6\\vak\\spectrograms_ge...</td>\n",
       "    </tr>\n",
       "  </tbody>\n",
       "</table>\n",
       "</div>"
      ],
      "text/plain": [
       "         acc  acc_majority_vote  acc_min_dur_maj_vote  acc_min_segment_dur  \\\n",
       "0   0.976961           0.980618              0.981167             0.981167   \n",
       "1   0.980854           0.983544              0.983544             0.983544   \n",
       "2   0.983028           0.984708              0.985213             0.985213   \n",
       "3   0.978516           0.980505              0.980505             0.980505   \n",
       "4   0.975496           0.978614              0.979283             0.979283   \n",
       "5   0.968452           0.971040              0.971526             0.971526   \n",
       "6   0.980421           0.981889              0.981889             0.981889   \n",
       "7   0.978057           0.982140              0.982650             0.982650   \n",
       "8   0.957321           0.961261              0.964051             0.964051   \n",
       "9   0.982392           0.983790              0.984908             0.984908   \n",
       "10  0.983437           0.986555              0.986555             0.986555   \n",
       "11  0.970833           0.977183              0.977579             0.977579   \n",
       "12  0.983089           0.985354              0.985354             0.985354   \n",
       "13  0.982979           0.984712              0.985343             0.985343   \n",
       "14  0.976258           0.980687              0.981396             0.981396   \n",
       "15  0.973196           0.979438              0.979438             0.979438   \n",
       "16  0.981845           0.985394              0.985394             0.985394   \n",
       "\n",
       "    levenshtein  levenshtein_majority_vote  levenshtein_min_dur_maj_vote  \\\n",
       "0            17                          2                             1   \n",
       "1             8                          1                             1   \n",
       "2            14                          3                             0   \n",
       "3            11                          1                             1   \n",
       "4            11                          1                             0   \n",
       "5            25                          6                             4   \n",
       "6            10                          3                             3   \n",
       "7            16                          2                             0   \n",
       "8            34                         18                            12   \n",
       "9            11                          4                             1   \n",
       "10           14                          0                             0   \n",
       "11           26                          2                             1   \n",
       "12            5                          0                             0   \n",
       "13           18                          4                             1   \n",
       "14           25                          3                             2   \n",
       "15           21                          2                             2   \n",
       "16           20                          0                             0   \n",
       "\n",
       "    levenshtein_min_segment_dur  segment_error_rate  \\\n",
       "0                             1            0.250000   \n",
       "1                             1            0.101266   \n",
       "2                             0            0.208955   \n",
       "3                             1            0.174603   \n",
       "4                             0            0.200000   \n",
       "5                             4            0.308642   \n",
       "6                             3            0.129870   \n",
       "7                             0            0.219178   \n",
       "8                            12            0.523077   \n",
       "9                             1            0.122222   \n",
       "10                            0            0.205882   \n",
       "11                            1            0.342105   \n",
       "12                            0            0.054945   \n",
       "13                            1            0.204545   \n",
       "14                            2            0.362319   \n",
       "15                            2            0.318182   \n",
       "16                            0            0.210526   \n",
       "\n",
       "    segment_error_rate_majority_vote  segment_error_rate_min_dur_maj_vote  \\\n",
       "0                           0.029412                             0.014706   \n",
       "1                           0.012658                             0.012658   \n",
       "2                           0.044776                             0.000000   \n",
       "3                           0.015873                             0.015873   \n",
       "4                           0.018182                             0.000000   \n",
       "5                           0.074074                             0.049383   \n",
       "6                           0.038961                             0.038961   \n",
       "7                           0.027397                             0.000000   \n",
       "8                           0.276923                             0.184615   \n",
       "9                           0.044444                             0.011111   \n",
       "10                          0.000000                             0.000000   \n",
       "11                          0.026316                             0.013158   \n",
       "12                          0.000000                             0.000000   \n",
       "13                          0.045455                             0.011364   \n",
       "14                          0.043478                             0.028986   \n",
       "15                          0.030303                             0.030303   \n",
       "16                          0.000000                             0.000000   \n",
       "\n",
       "    segment_error_rate_min_segment_dur  \\\n",
       "0                             0.014706   \n",
       "1                             0.012658   \n",
       "2                             0.000000   \n",
       "3                             0.015873   \n",
       "4                             0.000000   \n",
       "5                             0.049383   \n",
       "6                             0.038961   \n",
       "7                             0.000000   \n",
       "8                             0.184615   \n",
       "9                             0.011111   \n",
       "10                            0.000000   \n",
       "11                            0.013158   \n",
       "12                            0.000000   \n",
       "13                            0.011364   \n",
       "14                            0.028986   \n",
       "15                            0.030303   \n",
       "16                            0.000000   \n",
       "\n",
       "                                           spect_path  \n",
       "0   D:\\BengaleseFinches\\gy6or6\\vak\\spectrograms_ge...  \n",
       "1   D:\\BengaleseFinches\\gy6or6\\vak\\spectrograms_ge...  \n",
       "2   D:\\BengaleseFinches\\gy6or6\\vak\\spectrograms_ge...  \n",
       "3   D:\\BengaleseFinches\\gy6or6\\vak\\spectrograms_ge...  \n",
       "4   D:\\BengaleseFinches\\gy6or6\\vak\\spectrograms_ge...  \n",
       "5   D:\\BengaleseFinches\\gy6or6\\vak\\spectrograms_ge...  \n",
       "6   D:\\BengaleseFinches\\gy6or6\\vak\\spectrograms_ge...  \n",
       "7   D:\\BengaleseFinches\\gy6or6\\vak\\spectrograms_ge...  \n",
       "8   D:\\BengaleseFinches\\gy6or6\\vak\\spectrograms_ge...  \n",
       "9   D:\\BengaleseFinches\\gy6or6\\vak\\spectrograms_ge...  \n",
       "10  D:\\BengaleseFinches\\gy6or6\\vak\\spectrograms_ge...  \n",
       "11  D:\\BengaleseFinches\\gy6or6\\vak\\spectrograms_ge...  \n",
       "12  D:\\BengaleseFinches\\gy6or6\\vak\\spectrograms_ge...  \n",
       "13  D:\\BengaleseFinches\\gy6or6\\vak\\spectrograms_ge...  \n",
       "14  D:\\BengaleseFinches\\gy6or6\\vak\\spectrograms_ge...  \n",
       "15  D:\\BengaleseFinches\\gy6or6\\vak\\spectrograms_ge...  \n",
       "16  D:\\BengaleseFinches\\gy6or6\\vak\\spectrograms_ge...  "
      ]
     },
     "execution_count": 99,
     "metadata": {},
     "output_type": "execute_result"
    }
   ],
   "source": [
    "df"
   ]
  },
  {
   "cell_type": "code",
   "execution_count": null,
   "metadata": {},
   "outputs": [],
   "source": []
  }
 ],
 "metadata": {
  "kernelspec": {
   "display_name": "tweetyenv_alpha",
   "language": "python",
   "name": "tweetyenv_alpha"
  },
  "language_info": {
   "codemirror_mode": {
    "name": "ipython",
    "version": 3
   },
   "file_extension": ".py",
   "mimetype": "text/x-python",
   "name": "python",
   "nbconvert_exporter": "python",
   "pygments_lexer": "ipython3",
   "version": "3.6.10"
  }
 },
 "nbformat": 4,
 "nbformat_minor": 4
}
